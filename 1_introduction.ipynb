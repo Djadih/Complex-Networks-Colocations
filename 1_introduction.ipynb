{
  "cells": [
    {
      "cell_type": "markdown",
      "metadata": {},
      "source": [
        "\n",
        "A Blitz Introduction to DGL - Node Classification\n",
        "=================================================\n",
        "\n",
        "GNNs are powerful tools for many machine learning tasks on graphs. In\n",
        "this introductory tutorial, you will learn the basic workflow of using\n",
        "GNNs for node classification, i.e. predicting the category of a node in\n",
        "a graph.\n",
        "\n",
        "By completing this tutorial, you will be able to\n",
        "\n",
        "-  Load a DGL-provided dataset.\n",
        "-  Build a GNN model with DGL-provided neural network modules.\n",
        "-  Train and evaluate a GNN model for node classification on either CPU\n",
        "   or GPU.\n",
        "\n",
        "This tutorial assumes that you have experience in building neural\n",
        "networks with PyTorch.\n",
        "\n",
        "(Time estimate: 13 minutes)\n"
      ]
    },
    {
      "cell_type": "code",
      "execution_count": 6,
      "metadata": {
        "collapsed": false
      },
      "outputs": [],
      "source": [
        "import dgl\n",
        "import torch\n",
        "import torch.nn as nn\n",
        "import torch.nn.functional as F\n",
        "import networkx as nx"
      ]
    },
    {
      "cell_type": "markdown",
      "metadata": {},
      "source": [
        "Overview of Node Classification with GNN\n",
        "----------------------------------------\n",
        "\n",
        "One of the most popular and widely adopted tasks on graph data is node\n",
        "classification, where a model needs to predict the ground truth category\n",
        "of each node. Before graph neural networks, many proposed methods are\n",
        "using either connectivity alone (such as DeepWalk or node2vec), or simple\n",
        "combinations of connectivity and the node's own features.  GNNs, by\n",
        "contrast, offers an opportunity to obtain node representations by\n",
        "combining the connectivity and features of a *local neighborhood*.\n",
        "\n",
        "`Kipf et\n",
        "al., <https://arxiv.org/abs/1609.02907>`__ is an example that formulates\n",
        "the node classification problem as a semi-supervised node classification\n",
        "task. With the help of only a small portion of labeled nodes, a graph\n",
        "neural network (GNN) can accurately predict the node category of the\n",
        "others.\n",
        "\n",
        "This tutorial will show how to build such a GNN for semi-supervised node\n",
        "classification with only a small number of labels on the Cora\n",
        "dataset,\n",
        "a citation network with papers as nodes and citations as edges. The task\n",
        "is to predict the category of a given paper. Each paper node contains a\n",
        "word count vector as its features, normalized so that they sum up to one,\n",
        "as described in Section 5.2 of\n",
        "`the paper <https://arxiv.org/abs/1609.02907>`__.\n",
        "\n",
        "Loading Cora Dataset\n",
        "--------------------\n",
        "\n",
        "\n"
      ]
    },
    {
      "cell_type": "code",
      "execution_count": 35,
      "metadata": {},
      "outputs": [],
      "source": [
        "nx_graphs = []\n",
        "with open(f'datasets\\ATX_Networks\\sim_day_1.gexf') as graph_file:\n",
        "\tday_graph = nx.read_gexf(graph_file)\n",
        "\tday_graph = day_graph.to_directed()\n",
        "\tdgl_graph = dgl.from_networkx(day_graph, node_attrs = [\"home_zip\"])"
      ]
    },
    {
      "cell_type": "code",
      "execution_count": 36,
      "metadata": {
        "collapsed": false
      },
      "outputs": [],
      "source": [
        "dataset = dgl_graph"
      ]
    },
    {
      "cell_type": "code",
      "execution_count": 37,
      "metadata": {},
      "outputs": [
        {
          "name": "stdout",
          "output_type": "stream",
          "text": [
            "Graph(num_nodes=3938, num_edges=13706,\n",
            "      ndata_schemes={'home_zip': Scheme(shape=(), dtype=torch.float32)}\n",
            "      edata_schemes={})\n"
          ]
        }
      ],
      "source": [
        "print(dataset)"
      ]
    },
    {
      "cell_type": "markdown",
      "metadata": {},
      "source": [
        "A DGL Dataset object may contain one or multiple graphs. The Cora\n",
        "dataset used in this tutorial only consists of one single graph.\n",
        "\n",
        "\n"
      ]
    },
    {
      "cell_type": "code",
      "execution_count": 38,
      "metadata": {
        "collapsed": false
      },
      "outputs": [],
      "source": [
        "g = dgl_graph"
      ]
    },
    {
      "cell_type": "markdown",
      "metadata": {},
      "source": [
        "A DGL graph can store node features and edge features in two\n",
        "dictionary-like attributes called ``ndata`` and ``edata``.\n",
        "In the DGL Cora dataset, the graph contains the following node features:\n",
        "\n",
        "- ``train_mask``: A boolean tensor indicating whether the node is in the\n",
        "  training set.\n",
        "\n",
        "- ``val_mask``: A boolean tensor indicating whether the node is in the\n",
        "  validation set.\n",
        "\n",
        "- ``test_mask``: A boolean tensor indicating whether the node is in the\n",
        "  test set.\n",
        "\n",
        "- ``label``: The ground truth node category.\n",
        "\n",
        "-  ``feat``: The node features.\n",
        "\n",
        "\n"
      ]
    },
    {
      "cell_type": "code",
      "execution_count": 39,
      "metadata": {
        "collapsed": false
      },
      "outputs": [
        {
          "name": "stdout",
          "output_type": "stream",
          "text": [
            "Node features\n",
            "{'home_zip': tensor([78759.,    nan,    nan,  ..., 76574.,    nan,    nan])}\n",
            "Edge features\n",
            "{}\n"
          ]
        }
      ],
      "source": [
        "print('Node features')\n",
        "print(g.ndata)\n",
        "print('Edge features')\n",
        "print(g.edata)"
      ]
    },
    {
      "cell_type": "markdown",
      "metadata": {},
      "source": [
        "Defining a Graph Convolutional Network (GCN)\n",
        "--------------------------------------------\n",
        "\n",
        "This tutorial will build a two-layer `Graph Convolutional Network\n",
        "(GCN) <http://tkipf.github.io/graph-convolutional-networks/>`__. Each\n",
        "layer computes new node representations by aggregating neighbor\n",
        "information.\n",
        "\n",
        "To build a multi-layer GCN you can simply stack ``dgl.nn.GraphConv``\n",
        "modules, which inherit ``torch.nn.Module``.\n",
        "\n",
        "\n"
      ]
    },
    {
      "cell_type": "code",
      "execution_count": 28,
      "metadata": {
        "collapsed": false
      },
      "outputs": [
        {
          "ename": "IndexError",
          "evalue": "tuple index out of range",
          "output_type": "error",
          "traceback": [
            "\u001b[1;31m---------------------------------------------------------------------------\u001b[0m",
            "\u001b[1;31mIndexError\u001b[0m                                Traceback (most recent call last)",
            "\u001b[1;32m~\\AppData\\Local\\Temp/ipykernel_13768/206947757.py\u001b[0m in \u001b[0;36m<module>\u001b[1;34m\u001b[0m\n\u001b[0;32m     14\u001b[0m \u001b[1;33m\u001b[0m\u001b[0m\n\u001b[0;32m     15\u001b[0m \u001b[1;31m# Create the model with given dimensions\u001b[0m\u001b[1;33m\u001b[0m\u001b[1;33m\u001b[0m\u001b[1;33m\u001b[0m\u001b[0m\n\u001b[1;32m---> 16\u001b[1;33m \u001b[0mmodel\u001b[0m \u001b[1;33m=\u001b[0m \u001b[0mGCN\u001b[0m\u001b[1;33m(\u001b[0m\u001b[0mg\u001b[0m\u001b[1;33m.\u001b[0m\u001b[0mndata\u001b[0m\u001b[1;33m[\u001b[0m\u001b[1;34m'home_zip'\u001b[0m\u001b[1;33m]\u001b[0m\u001b[1;33m.\u001b[0m\u001b[0mshape\u001b[0m\u001b[1;33m[\u001b[0m\u001b[1;36m1\u001b[0m\u001b[1;33m]\u001b[0m\u001b[1;33m,\u001b[0m \u001b[1;36m0\u001b[0m\u001b[1;33m,\u001b[0m \u001b[0mdataset\u001b[0m\u001b[1;33m.\u001b[0m\u001b[0mnum_classes\u001b[0m\u001b[1;33m)\u001b[0m\u001b[1;33m\u001b[0m\u001b[1;33m\u001b[0m\u001b[0m\n\u001b[0m",
            "\u001b[1;31mIndexError\u001b[0m: tuple index out of range"
          ]
        }
      ],
      "source": [
        "from dgl.nn import GraphConv\n",
        "\n",
        "class GCN(nn.Module):\n",
        "    def __init__(self, in_feats, h_feats, num_classes):\n",
        "        super(GCN, self).__init__()\n",
        "        self.conv1 = GraphConv(in_feats, h_feats)\n",
        "        self.conv2 = GraphConv(h_feats, num_classes)\n",
        "    \n",
        "    def forward(self, g, in_feat):\n",
        "        h = self.conv1(g, in_feat)\n",
        "        h = F.relu(h)\n",
        "        h = self.conv2(g, h)\n",
        "        return h\n",
        "    \n",
        "# Create the model with given dimensions\n",
        "model = GCN(g.ndata['home_zip'].shape[1], 16, dataset.num_classes)"
      ]
    },
    {
      "cell_type": "markdown",
      "metadata": {},
      "source": [
        "DGL provides implementation of many popular neighbor aggregation\n",
        "modules. You can easily invoke them with one line of code.\n",
        "\n",
        "\n"
      ]
    },
    {
      "cell_type": "markdown",
      "metadata": {},
      "source": [
        "Training the GCN\n",
        "----------------\n",
        "\n",
        "Training this GCN is similar to training other PyTorch neural networks.\n",
        "\n",
        "\n"
      ]
    },
    {
      "cell_type": "code",
      "execution_count": null,
      "metadata": {
        "collapsed": false
      },
      "outputs": [],
      "source": [
        "def train(g, model):\n",
        "    optimizer = torch.optim.Adam(model.parameters(), lr=0.01)\n",
        "    best_val_acc = 0\n",
        "    best_test_acc = 0\n",
        "\n",
        "    features = g.ndata['feat']\n",
        "    labels = g.ndata['label']\n",
        "    train_mask = g.ndata['train_mask']\n",
        "    val_mask = g.ndata['val_mask']\n",
        "    test_mask = g.ndata['test_mask']\n",
        "    for e in range(100):\n",
        "        # Forward\n",
        "        logits = model(g, features)\n",
        "\n",
        "        # Compute prediction\n",
        "        pred = logits.argmax(1)\n",
        "\n",
        "        # Compute loss\n",
        "        # Note that you should only compute the losses of the nodes in the training set.\n",
        "        loss = F.cross_entropy(logits[train_mask], labels[train_mask])\n",
        "\n",
        "        # Compute accuracy on training/validation/test\n",
        "        train_acc = (pred[train_mask] == labels[train_mask]).float().mean()\n",
        "        val_acc = (pred[val_mask] == labels[val_mask]).float().mean()\n",
        "        test_acc = (pred[test_mask] == labels[test_mask]).float().mean()\n",
        "\n",
        "        # Save the best validation accuracy and the corresponding test accuracy.\n",
        "        if best_val_acc < val_acc:\n",
        "            best_val_acc = val_acc\n",
        "            best_test_acc = test_acc\n",
        "\n",
        "        # Backward\n",
        "        optimizer.zero_grad()\n",
        "        loss.backward()\n",
        "        optimizer.step()\n",
        "\n",
        "        if e % 5 == 0:\n",
        "            print('In epoch {}, loss: {:.3f}, val acc: {:.3f} (best {:.3f}), test acc: {:.3f} (best {:.3f})'.format(\n",
        "                e, loss, val_acc, best_val_acc, test_acc, best_test_acc))\n",
        "model = GCN(g.ndata['feat'].shape[1], 16, dataset.num_classes)\n",
        "train(g, model)"
      ]
    },
    {
      "cell_type": "markdown",
      "metadata": {},
      "source": [
        "Training on GPU\n",
        "---------------\n",
        "\n",
        "Training on GPU requires to put both the model and the graph onto GPU\n",
        "with the ``to`` method, similar to what you will do in PyTorch.\n",
        "\n",
        ".. code:: python\n",
        "\n",
        "   g = g.to('cuda')\n",
        "   model = GCN(g.ndata['feat'].shape[1], 16, dataset.num_classes).to('cuda')\n",
        "   train(g, model)\n",
        "\n",
        "\n"
      ]
    },
    {
      "cell_type": "markdown",
      "metadata": {},
      "source": [
        "What’s next?\n",
        "------------\n",
        "\n",
        "-  :doc:`How does DGL represent a graph <2_dglgraph>`?\n",
        "-  :doc:`Write your own GNN module <3_message_passing>`.\n",
        "-  :doc:`Link prediction (predicting existence of edges) on full\n",
        "   graph <4_link_predict>`.\n",
        "-  :doc:`Graph classification <5_graph_classification>`.\n",
        "-  :doc:`Make your own dataset <6_load_data>`.\n",
        "-  `The list of supported graph convolution\n",
        "   modules <apinn-pytorch>`.\n",
        "-  `The list of datasets provided by DGL <apidata>`.\n",
        "\n",
        "\n"
      ]
    }
  ],
  "metadata": {
    "kernelspec": {
      "display_name": "Python 3",
      "language": "python",
      "name": "python3"
    },
    "language_info": {
      "codemirror_mode": {
        "name": "ipython",
        "version": 3
      },
      "file_extension": ".py",
      "mimetype": "text/x-python",
      "name": "python",
      "nbconvert_exporter": "python",
      "pygments_lexer": "ipython3",
      "version": "3.8.12"
    }
  },
  "nbformat": 4,
  "nbformat_minor": 0
}
