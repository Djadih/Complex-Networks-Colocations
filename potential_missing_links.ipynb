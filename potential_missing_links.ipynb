{
 "cells": [
  {
   "cell_type": "code",
   "execution_count": 1,
   "metadata": {},
   "outputs": [],
   "source": [
    "import networkx as nx\n",
    "import numpy as np\n",
    "import pandas as pd \n",
    "import operator\n",
    "import matplotlib.pyplot as plt"
   ]
  },
  {
   "cell_type": "code",
   "execution_count": 2,
   "metadata": {},
   "outputs": [],
   "source": [
    "nx_graphs_learning = []\n",
    "nx_graphs_predict = []\n",
    "agg_graph = nx.MultiGraph()\n",
    "venue_df_list = []\n",
    "for i in range(20):\n",
    "\t# with open(f'..\\ATX_Networks\\sim_day_{i+1}.gexf') as graph_file:\n",
    "\tnx_graphs_learning.append(nx.read_gexf(f'..\\ATX_Networks\\sim_day_{i+1}.gexf'))\n",
    "\tvenue_dict = nx.get_edge_attributes(nx_graphs_learning[i], \"venueid\")\n",
    "\tvenue_arr = list(venue_dict.items())\n",
    "\trows = []\n",
    "\tfor row in venue_arr:\n",
    "\t\trows.append([row[0][0],row[0][1],row[1]])\n",
    "\tvenue_df_list.append(pd.DataFrame(rows))\n"
   ]
  },
  {
   "cell_type": "code",
   "execution_count": 3,
   "metadata": {},
   "outputs": [],
   "source": [
    "venue_df_list_predict = []\n",
    "for i in range(19,31):\n",
    "    nx_graphs_predict.append(nx.read_gexf(f'..\\ATX_Networks\\sim_day_{i+1}.gexf'))\n",
    "    venue_dict = nx.get_edge_attributes(nx_graphs_predict[i-19], \"venueid\")\n",
    "    venue_arr = list(venue_dict.items())\n",
    "    rows = []\n",
    "    for row in venue_arr:\n",
    "        rows.append([row[0][0],row[0][1],row[1]])\n",
    "    venue_df_list_predict.append(pd.DataFrame(rows))"
   ]
  },
  {
   "cell_type": "code",
   "execution_count": 15,
   "metadata": {},
   "outputs": [
    {
     "data": {
      "text/html": [
       "<div>\n",
       "<style scoped>\n",
       "    .dataframe tbody tr th:only-of-type {\n",
       "        vertical-align: middle;\n",
       "    }\n",
       "\n",
       "    .dataframe tbody tr th {\n",
       "        vertical-align: top;\n",
       "    }\n",
       "\n",
       "    .dataframe thead th {\n",
       "        text-align: right;\n",
       "    }\n",
       "</style>\n",
       "<table border=\"1\" class=\"dataframe\">\n",
       "  <thead>\n",
       "    <tr style=\"text-align: right;\">\n",
       "      <th></th>\n",
       "      <th>source</th>\n",
       "      <th>target</th>\n",
       "      <th>venueid</th>\n",
       "    </tr>\n",
       "  </thead>\n",
       "  <tbody>\n",
       "    <tr>\n",
       "      <th>0</th>\n",
       "      <td>2adee8895bc53ddebe8fb9c8a532f8bb5105a0d5bdcfd7...</td>\n",
       "      <td>d531979041494d0d0d2387cfc611f6e70d91bcb92cf966...</td>\n",
       "      <td>440da2cbf964a52091301fe3</td>\n",
       "    </tr>\n",
       "    <tr>\n",
       "      <th>1</th>\n",
       "      <td>2adee8895bc53ddebe8fb9c8a532f8bb5105a0d5bdcfd7...</td>\n",
       "      <td>cf4e564f4c8e3aecc9dacafce90cada3eabaff58464e74...</td>\n",
       "      <td>440da2cbf964a52091301fe3</td>\n",
       "    </tr>\n",
       "    <tr>\n",
       "      <th>2</th>\n",
       "      <td>2adee8895bc53ddebe8fb9c8a532f8bb5105a0d5bdcfd7...</td>\n",
       "      <td>594a39e074fda9219102eff386f3da1944494aaa18c036...</td>\n",
       "      <td>440da2cbf964a52091301fe3</td>\n",
       "    </tr>\n",
       "    <tr>\n",
       "      <th>3</th>\n",
       "      <td>2adee8895bc53ddebe8fb9c8a532f8bb5105a0d5bdcfd7...</td>\n",
       "      <td>a1470e73f1bc4f7c757c49138afd84bd1ad09e9277526a...</td>\n",
       "      <td>440da2cbf964a52091301fe3</td>\n",
       "    </tr>\n",
       "    <tr>\n",
       "      <th>4</th>\n",
       "      <td>2adee8895bc53ddebe8fb9c8a532f8bb5105a0d5bdcfd7...</td>\n",
       "      <td>6f8848838f9afe5a7b38c23ad5018179f69e518ee721ba...</td>\n",
       "      <td>440da2cbf964a52091301fe3</td>\n",
       "    </tr>\n",
       "  </tbody>\n",
       "</table>\n",
       "</div>"
      ],
      "text/plain": [
       "                                              source  \\\n",
       "0  2adee8895bc53ddebe8fb9c8a532f8bb5105a0d5bdcfd7...   \n",
       "1  2adee8895bc53ddebe8fb9c8a532f8bb5105a0d5bdcfd7...   \n",
       "2  2adee8895bc53ddebe8fb9c8a532f8bb5105a0d5bdcfd7...   \n",
       "3  2adee8895bc53ddebe8fb9c8a532f8bb5105a0d5bdcfd7...   \n",
       "4  2adee8895bc53ddebe8fb9c8a532f8bb5105a0d5bdcfd7...   \n",
       "\n",
       "                                              target                   venueid  \n",
       "0  d531979041494d0d0d2387cfc611f6e70d91bcb92cf966...  440da2cbf964a52091301fe3  \n",
       "1  cf4e564f4c8e3aecc9dacafce90cada3eabaff58464e74...  440da2cbf964a52091301fe3  \n",
       "2  594a39e074fda9219102eff386f3da1944494aaa18c036...  440da2cbf964a52091301fe3  \n",
       "3  a1470e73f1bc4f7c757c49138afd84bd1ad09e9277526a...  440da2cbf964a52091301fe3  \n",
       "4  6f8848838f9afe5a7b38c23ad5018179f69e518ee721ba...  440da2cbf964a52091301fe3  "
      ]
     },
     "execution_count": 15,
     "metadata": {},
     "output_type": "execute_result"
    }
   ],
   "source": [
    "concat_venue_df_learn = pd.concat(venue_df_list)\n",
    "concat_venue_df_learn.columns = ['source','target','venueid']\n",
    "learn_edges = concat_venue_df_learn.iloc[:,:2]\n",
    "concat_venue_df_learn.head()"
   ]
  },
  {
   "cell_type": "code",
   "execution_count": 14,
   "metadata": {},
   "outputs": [
    {
     "data": {
      "text/html": [
       "<div>\n",
       "<style scoped>\n",
       "    .dataframe tbody tr th:only-of-type {\n",
       "        vertical-align: middle;\n",
       "    }\n",
       "\n",
       "    .dataframe tbody tr th {\n",
       "        vertical-align: top;\n",
       "    }\n",
       "\n",
       "    .dataframe thead th {\n",
       "        text-align: right;\n",
       "    }\n",
       "</style>\n",
       "<table border=\"1\" class=\"dataframe\">\n",
       "  <thead>\n",
       "    <tr style=\"text-align: right;\">\n",
       "      <th></th>\n",
       "      <th>source</th>\n",
       "      <th>target</th>\n",
       "    </tr>\n",
       "  </thead>\n",
       "  <tbody>\n",
       "    <tr>\n",
       "      <th>0</th>\n",
       "      <td>2948c798ef6107e35f8624de3150851c739055bd3db6c3...</td>\n",
       "      <td>47e7f42109db6e5036850a024106f67d79480befd0788b...</td>\n",
       "    </tr>\n",
       "    <tr>\n",
       "      <th>1</th>\n",
       "      <td>1466d9c36f2eb213835513d860cdd692cf2d11f5f5ce98...</td>\n",
       "      <td>6049f76add3b013b811bd7bdc2f9a14b6e651307d59a39...</td>\n",
       "    </tr>\n",
       "    <tr>\n",
       "      <th>2</th>\n",
       "      <td>a7236c8817c615d21bcc3d2c1c252a6f1e5a2a262b99b9...</td>\n",
       "      <td>6581e0679fc7675654aa43b2329be2b4de689503806e25...</td>\n",
       "    </tr>\n",
       "    <tr>\n",
       "      <th>3</th>\n",
       "      <td>a7236c8817c615d21bcc3d2c1c252a6f1e5a2a262b99b9...</td>\n",
       "      <td>7a61d0b7162468df8a51a5d7608070310ef737a9c5ce63...</td>\n",
       "    </tr>\n",
       "    <tr>\n",
       "      <th>4</th>\n",
       "      <td>83ea847f734e5c68c80a12ee564421610f7a1ac44e965a...</td>\n",
       "      <td>76a48312371a24467062b2e1df331905003cb23b6b5fad...</td>\n",
       "    </tr>\n",
       "  </tbody>\n",
       "</table>\n",
       "</div>"
      ],
      "text/plain": [
       "                                              source  \\\n",
       "0  2948c798ef6107e35f8624de3150851c739055bd3db6c3...   \n",
       "1  1466d9c36f2eb213835513d860cdd692cf2d11f5f5ce98...   \n",
       "2  a7236c8817c615d21bcc3d2c1c252a6f1e5a2a262b99b9...   \n",
       "3  a7236c8817c615d21bcc3d2c1c252a6f1e5a2a262b99b9...   \n",
       "4  83ea847f734e5c68c80a12ee564421610f7a1ac44e965a...   \n",
       "\n",
       "                                              target  \n",
       "0  47e7f42109db6e5036850a024106f67d79480befd0788b...  \n",
       "1  6049f76add3b013b811bd7bdc2f9a14b6e651307d59a39...  \n",
       "2  6581e0679fc7675654aa43b2329be2b4de689503806e25...  \n",
       "3  7a61d0b7162468df8a51a5d7608070310ef737a9c5ce63...  \n",
       "4  76a48312371a24467062b2e1df331905003cb23b6b5fad...  "
      ]
     },
     "execution_count": 14,
     "metadata": {},
     "output_type": "execute_result"
    }
   ],
   "source": [
    "concat_venue_df_pred = pd.concat(venue_df_list_predict)\n",
    "concat_venue_df_pred.columns = ['source','target','venueid']\n",
    "pred_edges = concat_venue_df_pred.iloc[:,:2]\n",
    "pred_edges.head()"
   ]
  },
  {
   "cell_type": "code",
   "execution_count": 16,
   "metadata": {},
   "outputs": [
    {
     "name": "stdout",
     "output_type": "stream",
     "text": [
      "(143543, 3)\n",
      "(93410, 3)\n"
     ]
    }
   ],
   "source": [
    "print(concat_venue_df_learn.shape)\n",
    "print(concat_venue_df_pred.shape)"
   ]
  },
  {
   "cell_type": "code",
   "execution_count": 17,
   "metadata": {},
   "outputs": [],
   "source": [
    "ds_learn = set(map(tuple, learn_edges.values))\n",
    "ds_pred = set(map(tuple, pred_edges.values))\n",
    "ds_to_predict = pd.DataFrame(list(ds_pred.difference(ds_learn)))\n",
    "ds_to_predict.columns=['source', 'target']"
   ]
  },
  {
   "cell_type": "code",
   "execution_count": 18,
   "metadata": {},
   "outputs": [
    {
     "data": {
      "text/html": [
       "<div>\n",
       "<style scoped>\n",
       "    .dataframe tbody tr th:only-of-type {\n",
       "        vertical-align: middle;\n",
       "    }\n",
       "\n",
       "    .dataframe tbody tr th {\n",
       "        vertical-align: top;\n",
       "    }\n",
       "\n",
       "    .dataframe thead th {\n",
       "        text-align: right;\n",
       "    }\n",
       "</style>\n",
       "<table border=\"1\" class=\"dataframe\">\n",
       "  <thead>\n",
       "    <tr style=\"text-align: right;\">\n",
       "      <th></th>\n",
       "      <th>source</th>\n",
       "      <th>target</th>\n",
       "    </tr>\n",
       "  </thead>\n",
       "  <tbody>\n",
       "    <tr>\n",
       "      <th>0</th>\n",
       "      <td>104fc132c04993e6955884fb2ab97b0844e50c1c81cd63...</td>\n",
       "      <td>04db9d32ea5e47b9488526d0502ca13a8dcf95f3aec2b4...</td>\n",
       "    </tr>\n",
       "    <tr>\n",
       "      <th>1</th>\n",
       "      <td>f73cbff4ce8020326fd7cdfc0b828d7b4a10c2bd23332e...</td>\n",
       "      <td>9449224cea99c7e5d840c09574aa2d5398d8c1340bc4a4...</td>\n",
       "    </tr>\n",
       "    <tr>\n",
       "      <th>2</th>\n",
       "      <td>d475793dd47954d158bbaa35817d94fe8d3951143d7075...</td>\n",
       "      <td>58b01c4a7b3896c95f59e9259d625eb68c89e863a08fcc...</td>\n",
       "    </tr>\n",
       "    <tr>\n",
       "      <th>3</th>\n",
       "      <td>d8e4658adb2cd20d208eb6f089e4c482bf7ec7fa084ea9...</td>\n",
       "      <td>7cada410228c4410d1467fde511a5e341ce4153a69c402...</td>\n",
       "    </tr>\n",
       "    <tr>\n",
       "      <th>4</th>\n",
       "      <td>701d30f27393ee745ac72a2d6143fac7b4ee0f4bf923c5...</td>\n",
       "      <td>c87eca7fbe10670a92cfa47665a998b081c80a032e57b1...</td>\n",
       "    </tr>\n",
       "  </tbody>\n",
       "</table>\n",
       "</div>"
      ],
      "text/plain": [
       "                                              source  \\\n",
       "0  104fc132c04993e6955884fb2ab97b0844e50c1c81cd63...   \n",
       "1  f73cbff4ce8020326fd7cdfc0b828d7b4a10c2bd23332e...   \n",
       "2  d475793dd47954d158bbaa35817d94fe8d3951143d7075...   \n",
       "3  d8e4658adb2cd20d208eb6f089e4c482bf7ec7fa084ea9...   \n",
       "4  701d30f27393ee745ac72a2d6143fac7b4ee0f4bf923c5...   \n",
       "\n",
       "                                              target  \n",
       "0  04db9d32ea5e47b9488526d0502ca13a8dcf95f3aec2b4...  \n",
       "1  9449224cea99c7e5d840c09574aa2d5398d8c1340bc4a4...  \n",
       "2  58b01c4a7b3896c95f59e9259d625eb68c89e863a08fcc...  \n",
       "3  7cada410228c4410d1467fde511a5e341ce4153a69c402...  \n",
       "4  c87eca7fbe10670a92cfa47665a998b081c80a032e57b1...  "
      ]
     },
     "execution_count": 18,
     "metadata": {},
     "output_type": "execute_result"
    }
   ],
   "source": [
    "ds_to_predict.head()"
   ]
  },
  {
   "cell_type": "code",
   "execution_count": 19,
   "metadata": {},
   "outputs": [
    {
     "name": "stdout",
     "output_type": "stream",
     "text": [
      "(81796, 2)\n",
      "137879 90050\n"
     ]
    }
   ],
   "source": [
    "print(ds_to_predict.shape)\n",
    "print(len(ds_learn), len(ds_pred))"
   ]
  },
  {
   "cell_type": "code",
   "execution_count": null,
   "metadata": {},
   "outputs": [],
   "source": []
  },
  {
   "cell_type": "markdown",
   "metadata": {},
   "source": [
    "There are 81796 unique colocations in the last 11 days that never happened in the first 20 days. "
   ]
  },
  {
   "cell_type": "markdown",
   "metadata": {},
   "source": []
  }
 ],
 "metadata": {
  "interpreter": {
   "hash": "73ecdd61d20018d2e758117bd4629727afe7a01cd59affc255f8f7577a700e03"
  },
  "kernelspec": {
   "display_name": "Python 3.8.5 64-bit ('dslab': conda)",
   "language": "python",
   "name": "python3"
  },
  "language_info": {
   "codemirror_mode": {
    "name": "ipython",
    "version": 3
   },
   "file_extension": ".py",
   "mimetype": "text/x-python",
   "name": "python",
   "nbconvert_exporter": "python",
   "pygments_lexer": "ipython3",
   "version": "3.8.5"
  },
  "orig_nbformat": 4
 },
 "nbformat": 4,
 "nbformat_minor": 2
}
