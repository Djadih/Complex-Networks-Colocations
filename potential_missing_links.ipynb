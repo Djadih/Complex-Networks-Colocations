{
 "cells": [
  {
   "cell_type": "code",
   "execution_count": 70,
   "metadata": {},
   "outputs": [],
   "source": [
    "import networkx as nx\n",
    "import numpy as np\n",
    "import pandas as pd \n",
    "import operator\n",
    "import matplotlib.pyplot as plt"
   ]
  },
  {
   "cell_type": "code",
   "execution_count": 71,
   "metadata": {},
   "outputs": [],
   "source": [
    "nx_graphs_learning = []\n",
    "nx_graphs_predict = []\n",
    "agg_graph = nx.MultiGraph()\n",
    "venue_df_list = []\n",
    "for i in range(24):\n",
    "\t# with open(f'..\\ATX_Networks\\sim_day_{i+1}.gexf') as graph_file:\n",
    "\tnx_graphs_learning.append(nx.read_gexf(f'..\\ATX_Networks\\sim_day_{i+1}.gexf'))\n",
    "\tvenue_dict = nx.get_edge_attributes(nx_graphs_learning[i], \"venueid\")\n",
    "\tvenue_arr = list(venue_dict.items())\n",
    "\trows = []\n",
    "\tfor row in venue_arr:\n",
    "\t\trows.append([row[0][0],row[0][1],row[1]])\n",
    "\tvenue_df_list.append(pd.DataFrame(rows))\n"
   ]
  },
  {
   "cell_type": "code",
   "execution_count": 72,
   "metadata": {},
   "outputs": [],
   "source": [
    "venue_df_list_predict = []\n",
    "for i in range(24,31):\n",
    "    nx_graphs_predict.append(nx.read_gexf(f'..\\ATX_Networks\\sim_day_{i+1}.gexf'))\n",
    "    venue_dict = nx.get_edge_attributes(nx_graphs_predict[i-24], \"venueid\")\n",
    "    venue_arr = list(venue_dict.items())\n",
    "    rows = []\n",
    "    for row in venue_arr:\n",
    "        rows.append([row[0][0],row[0][1],row[1]])\n",
    "    venue_df_list_predict.append(pd.DataFrame(rows))"
   ]
  },
  {
   "cell_type": "code",
   "execution_count": 73,
   "metadata": {},
   "outputs": [
    {
     "data": {
      "text/html": [
       "<div>\n",
       "<style scoped>\n",
       "    .dataframe tbody tr th:only-of-type {\n",
       "        vertical-align: middle;\n",
       "    }\n",
       "\n",
       "    .dataframe tbody tr th {\n",
       "        vertical-align: top;\n",
       "    }\n",
       "\n",
       "    .dataframe thead th {\n",
       "        text-align: right;\n",
       "    }\n",
       "</style>\n",
       "<table border=\"1\" class=\"dataframe\">\n",
       "  <thead>\n",
       "    <tr style=\"text-align: right;\">\n",
       "      <th></th>\n",
       "      <th>source</th>\n",
       "      <th>target</th>\n",
       "      <th>venueid</th>\n",
       "    </tr>\n",
       "  </thead>\n",
       "  <tbody>\n",
       "    <tr>\n",
       "      <th>0</th>\n",
       "      <td>2adee8895bc53ddebe8fb9c8a532f8bb5105a0d5bdcfd7...</td>\n",
       "      <td>d531979041494d0d0d2387cfc611f6e70d91bcb92cf966...</td>\n",
       "      <td>440da2cbf964a52091301fe3</td>\n",
       "    </tr>\n",
       "    <tr>\n",
       "      <th>1</th>\n",
       "      <td>2adee8895bc53ddebe8fb9c8a532f8bb5105a0d5bdcfd7...</td>\n",
       "      <td>cf4e564f4c8e3aecc9dacafce90cada3eabaff58464e74...</td>\n",
       "      <td>440da2cbf964a52091301fe3</td>\n",
       "    </tr>\n",
       "    <tr>\n",
       "      <th>2</th>\n",
       "      <td>2adee8895bc53ddebe8fb9c8a532f8bb5105a0d5bdcfd7...</td>\n",
       "      <td>594a39e074fda9219102eff386f3da1944494aaa18c036...</td>\n",
       "      <td>440da2cbf964a52091301fe3</td>\n",
       "    </tr>\n",
       "    <tr>\n",
       "      <th>3</th>\n",
       "      <td>2adee8895bc53ddebe8fb9c8a532f8bb5105a0d5bdcfd7...</td>\n",
       "      <td>a1470e73f1bc4f7c757c49138afd84bd1ad09e9277526a...</td>\n",
       "      <td>440da2cbf964a52091301fe3</td>\n",
       "    </tr>\n",
       "    <tr>\n",
       "      <th>4</th>\n",
       "      <td>2adee8895bc53ddebe8fb9c8a532f8bb5105a0d5bdcfd7...</td>\n",
       "      <td>6f8848838f9afe5a7b38c23ad5018179f69e518ee721ba...</td>\n",
       "      <td>440da2cbf964a52091301fe3</td>\n",
       "    </tr>\n",
       "  </tbody>\n",
       "</table>\n",
       "</div>"
      ],
      "text/plain": [
       "                                              source  \\\n",
       "0  2adee8895bc53ddebe8fb9c8a532f8bb5105a0d5bdcfd7...   \n",
       "1  2adee8895bc53ddebe8fb9c8a532f8bb5105a0d5bdcfd7...   \n",
       "2  2adee8895bc53ddebe8fb9c8a532f8bb5105a0d5bdcfd7...   \n",
       "3  2adee8895bc53ddebe8fb9c8a532f8bb5105a0d5bdcfd7...   \n",
       "4  2adee8895bc53ddebe8fb9c8a532f8bb5105a0d5bdcfd7...   \n",
       "\n",
       "                                              target                   venueid  \n",
       "0  d531979041494d0d0d2387cfc611f6e70d91bcb92cf966...  440da2cbf964a52091301fe3  \n",
       "1  cf4e564f4c8e3aecc9dacafce90cada3eabaff58464e74...  440da2cbf964a52091301fe3  \n",
       "2  594a39e074fda9219102eff386f3da1944494aaa18c036...  440da2cbf964a52091301fe3  \n",
       "3  a1470e73f1bc4f7c757c49138afd84bd1ad09e9277526a...  440da2cbf964a52091301fe3  \n",
       "4  6f8848838f9afe5a7b38c23ad5018179f69e518ee721ba...  440da2cbf964a52091301fe3  "
      ]
     },
     "execution_count": 73,
     "metadata": {},
     "output_type": "execute_result"
    }
   ],
   "source": [
    "concat_venue_df_learn = pd.concat(venue_df_list)\n",
    "concat_venue_df_learn.columns = ['source','target','venueid']\n",
    "learn_edges = concat_venue_df_learn.iloc[:,:2]\n",
    "concat_venue_df_learn.head()"
   ]
  },
  {
   "cell_type": "code",
   "execution_count": 74,
   "metadata": {},
   "outputs": [
    {
     "data": {
      "text/html": [
       "<div>\n",
       "<style scoped>\n",
       "    .dataframe tbody tr th:only-of-type {\n",
       "        vertical-align: middle;\n",
       "    }\n",
       "\n",
       "    .dataframe tbody tr th {\n",
       "        vertical-align: top;\n",
       "    }\n",
       "\n",
       "    .dataframe thead th {\n",
       "        text-align: right;\n",
       "    }\n",
       "</style>\n",
       "<table border=\"1\" class=\"dataframe\">\n",
       "  <thead>\n",
       "    <tr style=\"text-align: right;\">\n",
       "      <th></th>\n",
       "      <th>source</th>\n",
       "      <th>target</th>\n",
       "    </tr>\n",
       "  </thead>\n",
       "  <tbody>\n",
       "    <tr>\n",
       "      <th>0</th>\n",
       "      <td>5451c4f17a4021464e681b289a42417c2c27cd4c6500b8...</td>\n",
       "      <td>9845f55a4a7b78a9c77eb284a4c78a13da532f0b5ee79d...</td>\n",
       "    </tr>\n",
       "    <tr>\n",
       "      <th>1</th>\n",
       "      <td>9845f55a4a7b78a9c77eb284a4c78a13da532f0b5ee79d...</td>\n",
       "      <td>e60d9116c902d6fd757c05764783bd7c2578457da97ecb...</td>\n",
       "    </tr>\n",
       "    <tr>\n",
       "      <th>2</th>\n",
       "      <td>9845f55a4a7b78a9c77eb284a4c78a13da532f0b5ee79d...</td>\n",
       "      <td>813a21a92db761f7c5b5752ff4d2ccd675162c8cd0407c...</td>\n",
       "    </tr>\n",
       "    <tr>\n",
       "      <th>3</th>\n",
       "      <td>32e829fc1bcd3ab0203e8e12e47a54b8989f84159a0e6a...</td>\n",
       "      <td>8054bde751be29ecde7ade96742833fc45595001a08d1b...</td>\n",
       "    </tr>\n",
       "    <tr>\n",
       "      <th>4</th>\n",
       "      <td>32e829fc1bcd3ab0203e8e12e47a54b8989f84159a0e6a...</td>\n",
       "      <td>5e05457c3930c08cde4fe049143384b3e9f3b2cdf2e067...</td>\n",
       "    </tr>\n",
       "  </tbody>\n",
       "</table>\n",
       "</div>"
      ],
      "text/plain": [
       "                                              source  \\\n",
       "0  5451c4f17a4021464e681b289a42417c2c27cd4c6500b8...   \n",
       "1  9845f55a4a7b78a9c77eb284a4c78a13da532f0b5ee79d...   \n",
       "2  9845f55a4a7b78a9c77eb284a4c78a13da532f0b5ee79d...   \n",
       "3  32e829fc1bcd3ab0203e8e12e47a54b8989f84159a0e6a...   \n",
       "4  32e829fc1bcd3ab0203e8e12e47a54b8989f84159a0e6a...   \n",
       "\n",
       "                                              target  \n",
       "0  9845f55a4a7b78a9c77eb284a4c78a13da532f0b5ee79d...  \n",
       "1  e60d9116c902d6fd757c05764783bd7c2578457da97ecb...  \n",
       "2  813a21a92db761f7c5b5752ff4d2ccd675162c8cd0407c...  \n",
       "3  8054bde751be29ecde7ade96742833fc45595001a08d1b...  \n",
       "4  5e05457c3930c08cde4fe049143384b3e9f3b2cdf2e067...  "
      ]
     },
     "execution_count": 74,
     "metadata": {},
     "output_type": "execute_result"
    }
   ],
   "source": [
    "concat_venue_df_pred = pd.concat(venue_df_list_predict)\n",
    "concat_venue_df_pred.columns = ['source','target','venueid']\n",
    "pred_edges = concat_venue_df_pred.iloc[:,:2]\n",
    "pred_edges.head()"
   ]
  },
  {
   "cell_type": "code",
   "execution_count": 75,
   "metadata": {},
   "outputs": [
    {
     "name": "stdout",
     "output_type": "stream",
     "text": [
      "(171150, 3)\n",
      "(59815, 3)\n"
     ]
    }
   ],
   "source": [
    "print(concat_venue_df_learn.shape)\n",
    "print(concat_venue_df_pred.shape)"
   ]
  },
  {
   "cell_type": "code",
   "execution_count": 76,
   "metadata": {},
   "outputs": [],
   "source": [
    "ds_learn = set(map(tuple, learn_edges.values))\n",
    "ds_pred = set(map(tuple, pred_edges.values))\n",
    "ds_to_predict = pd.DataFrame(list(ds_pred.difference(ds_learn)))\n",
    "ds_to_predict.columns=['source', 'target']"
   ]
  },
  {
   "cell_type": "code",
   "execution_count": 89,
   "metadata": {},
   "outputs": [],
   "source": [
    "ds_outer_join = pd.merge(concat_venue_df_pred,concat_venue_df_learn, on=['source','target'], how='outer', indicator=True).query(\"_merge == 'left_only'\").reset_index(drop=True)"
   ]
  },
  {
   "cell_type": "code",
   "execution_count": 90,
   "metadata": {},
   "outputs": [
    {
     "name": "stdout",
     "output_type": "stream",
     "text": [
      "(171150, 3)\n",
      "(59815, 3)\n",
      "(57032, 5)\n"
     ]
    },
    {
     "data": {
      "text/html": [
       "<div>\n",
       "<style scoped>\n",
       "    .dataframe tbody tr th:only-of-type {\n",
       "        vertical-align: middle;\n",
       "    }\n",
       "\n",
       "    .dataframe tbody tr th {\n",
       "        vertical-align: top;\n",
       "    }\n",
       "\n",
       "    .dataframe thead th {\n",
       "        text-align: right;\n",
       "    }\n",
       "</style>\n",
       "<table border=\"1\" class=\"dataframe\">\n",
       "  <thead>\n",
       "    <tr style=\"text-align: right;\">\n",
       "      <th></th>\n",
       "      <th>source</th>\n",
       "      <th>target</th>\n",
       "      <th>venueid_x</th>\n",
       "      <th>venueid_y</th>\n",
       "      <th>_merge</th>\n",
       "    </tr>\n",
       "  </thead>\n",
       "  <tbody>\n",
       "    <tr>\n",
       "      <th>0</th>\n",
       "      <td>5451c4f17a4021464e681b289a42417c2c27cd4c6500b8...</td>\n",
       "      <td>9845f55a4a7b78a9c77eb284a4c78a13da532f0b5ee79d...</td>\n",
       "      <td>4f42f060e4b0a2bdc6d9c3ba</td>\n",
       "      <td>NaN</td>\n",
       "      <td>left_only</td>\n",
       "    </tr>\n",
       "    <tr>\n",
       "      <th>1</th>\n",
       "      <td>9845f55a4a7b78a9c77eb284a4c78a13da532f0b5ee79d...</td>\n",
       "      <td>e60d9116c902d6fd757c05764783bd7c2578457da97ecb...</td>\n",
       "      <td>414f6f00f964a520fc1c1fe3</td>\n",
       "      <td>NaN</td>\n",
       "      <td>left_only</td>\n",
       "    </tr>\n",
       "    <tr>\n",
       "      <th>2</th>\n",
       "      <td>9845f55a4a7b78a9c77eb284a4c78a13da532f0b5ee79d...</td>\n",
       "      <td>813a21a92db761f7c5b5752ff4d2ccd675162c8cd0407c...</td>\n",
       "      <td>4cdc3d4122bd721e3916fa47</td>\n",
       "      <td>NaN</td>\n",
       "      <td>left_only</td>\n",
       "    </tr>\n",
       "    <tr>\n",
       "      <th>3</th>\n",
       "      <td>32e829fc1bcd3ab0203e8e12e47a54b8989f84159a0e6a...</td>\n",
       "      <td>8054bde751be29ecde7ade96742833fc45595001a08d1b...</td>\n",
       "      <td>54bdad0f498e7bffedf155db</td>\n",
       "      <td>NaN</td>\n",
       "      <td>left_only</td>\n",
       "    </tr>\n",
       "    <tr>\n",
       "      <th>4</th>\n",
       "      <td>32e829fc1bcd3ab0203e8e12e47a54b8989f84159a0e6a...</td>\n",
       "      <td>5e05457c3930c08cde4fe049143384b3e9f3b2cdf2e067...</td>\n",
       "      <td>4b5a013cf964a52025a728e3</td>\n",
       "      <td>NaN</td>\n",
       "      <td>left_only</td>\n",
       "    </tr>\n",
       "  </tbody>\n",
       "</table>\n",
       "</div>"
      ],
      "text/plain": [
       "                                              source  \\\n",
       "0  5451c4f17a4021464e681b289a42417c2c27cd4c6500b8...   \n",
       "1  9845f55a4a7b78a9c77eb284a4c78a13da532f0b5ee79d...   \n",
       "2  9845f55a4a7b78a9c77eb284a4c78a13da532f0b5ee79d...   \n",
       "3  32e829fc1bcd3ab0203e8e12e47a54b8989f84159a0e6a...   \n",
       "4  32e829fc1bcd3ab0203e8e12e47a54b8989f84159a0e6a...   \n",
       "\n",
       "                                              target  \\\n",
       "0  9845f55a4a7b78a9c77eb284a4c78a13da532f0b5ee79d...   \n",
       "1  e60d9116c902d6fd757c05764783bd7c2578457da97ecb...   \n",
       "2  813a21a92db761f7c5b5752ff4d2ccd675162c8cd0407c...   \n",
       "3  8054bde751be29ecde7ade96742833fc45595001a08d1b...   \n",
       "4  5e05457c3930c08cde4fe049143384b3e9f3b2cdf2e067...   \n",
       "\n",
       "                  venueid_x venueid_y     _merge  \n",
       "0  4f42f060e4b0a2bdc6d9c3ba       NaN  left_only  \n",
       "1  414f6f00f964a520fc1c1fe3       NaN  left_only  \n",
       "2  4cdc3d4122bd721e3916fa47       NaN  left_only  \n",
       "3  54bdad0f498e7bffedf155db       NaN  left_only  \n",
       "4  4b5a013cf964a52025a728e3       NaN  left_only  "
      ]
     },
     "execution_count": 90,
     "metadata": {},
     "output_type": "execute_result"
    }
   ],
   "source": [
    "print(concat_venue_df_learn.shape)\n",
    "print(concat_venue_df_pred.shape)\n",
    "print(ds_outer_join.shape)\n",
    "ds_outer_join.head()"
   ]
  },
  {
   "cell_type": "code",
   "execution_count": 91,
   "metadata": {},
   "outputs": [
    {
     "name": "stdout",
     "output_type": "stream",
     "text": [
      "(56206, 2)\n",
      "58531\n"
     ]
    }
   ],
   "source": [
    "print(ds_to_predict.shape)\n",
    "print(len(ds_pred))"
   ]
  },
  {
   "cell_type": "code",
   "execution_count": null,
   "metadata": {},
   "outputs": [],
   "source": []
  },
  {
   "cell_type": "markdown",
   "metadata": {},
   "source": [
    "There are 81796 unique colocations in the last 11 days that never happened in the first 20 days. "
   ]
  },
  {
   "cell_type": "markdown",
   "metadata": {},
   "source": []
  }
 ],
 "metadata": {
  "interpreter": {
   "hash": "73ecdd61d20018d2e758117bd4629727afe7a01cd59affc255f8f7577a700e03"
  },
  "kernelspec": {
   "display_name": "Python 3.8.5 64-bit ('dslab': conda)",
   "language": "python",
   "name": "python3"
  },
  "language_info": {
   "codemirror_mode": {
    "name": "ipython",
    "version": 3
   },
   "file_extension": ".py",
   "mimetype": "text/x-python",
   "name": "python",
   "nbconvert_exporter": "python",
   "pygments_lexer": "ipython3",
   "version": "3.8.5"
  },
  "orig_nbformat": 4
 },
 "nbformat": 4,
 "nbformat_minor": 2
}
