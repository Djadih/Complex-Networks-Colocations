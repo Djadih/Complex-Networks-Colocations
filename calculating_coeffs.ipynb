{
 "cells": [
  {
   "cell_type": "code",
   "execution_count": 1,
   "metadata": {},
   "outputs": [],
   "source": [
    "import networkx as nx\n",
    "import numpy as np\n",
    "import pandas as pd\n",
    "import pickle"
   ]
  },
  {
   "cell_type": "markdown",
   "metadata": {},
   "source": [
    "Read files"
   ]
  },
  {
   "cell_type": "code",
   "execution_count": 2,
   "metadata": {},
   "outputs": [],
   "source": [
    "nx_graphs = []\n",
    "agg_graph = nx.MultiGraph()\n",
    "venue_df_list = []\n",
    "for i in range(31):\n",
    "    # with open(f'..\\ATX_Networks\\sim_day_{i+1}.gexf') as graph_file:\n",
    "    nx_graphs.append(nx.read_gexf(f'datasets\\ATX_Networks\\sim_day_{i+1}.gexf'))"
   ]
  },
  {
   "cell_type": "markdown",
   "metadata": {},
   "source": [
    "# Calculate classic link prediction metrics"
   ]
  },
  {
   "cell_type": "code",
   "execution_count": 9,
   "metadata": {},
   "outputs": [
    {
     "name": "stdout",
     "output_type": "stream",
     "text": [
      "Day #0\n",
      "Day #1\n",
      "Day #2\n",
      "Day #3\n",
      "Day #4\n",
      "Day #5\n",
      "Day #6\n",
      "Day #7\n",
      "Day #8\n",
      "Day #9\n",
      "Day #10\n",
      "Day #11\n",
      "Day #12\n",
      "Day #13\n",
      "Day #14\n",
      "Day #15\n",
      "Day #16\n",
      "Day #17\n",
      "Day #18\n",
      "Day #19\n",
      "Day #20\n",
      "Day #21\n",
      "Day #22\n",
      "Day #23\n",
      "Day #24\n",
      "Day #25\n",
      "Day #26\n",
      "Day #27\n",
      "Day #28\n",
      "Day #29\n",
      "Day #30\n"
     ]
    }
   ],
   "source": [
    "# Calculate and store the coefficients.\n",
    "coefficients = []\n",
    "\n",
    "for count, graph in enumerate(nx_graphs):\n",
    "\tprint(f\"Day #{count}\")\n",
    "\n",
    "\t# resource_allocation_index = nx.resource_allocation_index(graph)\n",
    "\t# resource_allocation_df = pd.DataFrame(resource_allocation_index)\n",
    "\t\n",
    "\tjaccard_coefficients = nx.jaccard_coefficient(graph)\n",
    "\tjaccard_coefficients_df = pd.DataFrame(jaccard_coefficients, columns = [\"Source\", \"Target\", \"jaccards\"])\n",
    "\t\n",
    "\t# adamic_index = nx.adamic_adar_index(graph)\n",
    "\t# adamic_index_df = pd.DataFrame(adamic_index)\n",
    "\t\n",
    "\tpreferential_attachment = nx.preferential_attachment(graph)\n",
    "\tpreferential_attachment_df = pd.DataFrame(preferential_attachment, columns = [\"Source\", \"Target\", \"preferential_attachment\"])\n",
    "\n",
    "\tcoefficients_df = jaccard_coefficients_df.merge(preferential_attachment_df, on = [\"Source\", \"Target\"])\n",
    "\t\n",
    "\t# cn_soundarajan_hopcroft = nx.cn_soundarajan_hopcroft(graph)\n",
    "\t# cn_soundarajan_hopcroft_df = pd.DataFrame(cn_soundarajan_hopcroft)\n",
    "\t\n",
    "\t# ra_index_soundarajan_hopcroft = nx.ra_index_soundarajan_hopcroft(graph)\n",
    "\t# ra_index_soundarajan_hopcroft_df = pd.DataFrame(ra_index_soundarajan_hopcroft)\n",
    "\t\n",
    "\t# within_inter_cluster = nx.within_inter_cluster(graph)\n",
    "\t# within_inter_cluster_df = pd.DataFrame(within_inter_cluster)\n",
    "\n",
    "\tcoefficients.append(coefficients_df)\n",
    "\t\n",
    "\t# This one for some reason does not return the iterator, and actually goes ahead and calculates all the values.\n",
    "\t# common_neighbor_centrality = nx.common_neighbor_centrality(graph)"
   ]
  },
  {
   "cell_type": "code",
   "execution_count": null,
   "metadata": {},
   "outputs": [],
   "source": []
  },
  {
   "cell_type": "code",
   "execution_count": 12,
   "metadata": {},
   "outputs": [
    {
     "name": "stdout",
     "output_type": "stream",
     "text": [
      "Index(['Source', 'Target', 'jaccards', 'preferential_attachment'], dtype='object')\n"
     ]
    }
   ],
   "source": [
    "print(coefficients_df.columns)"
   ]
  },
  {
   "cell_type": "code",
   "execution_count": 14,
   "metadata": {},
   "outputs": [],
   "source": [
    "# Save into pickle file.\n",
    "for count, day in enumerate(coefficients):\n",
    "\t# pickle.dump(day, open(f'pickle_files/{count}_coefficients.p', 'wb'))\n",
    "\tday.to_csv(f'graph_files/coefficients/{count}_coefficients')"
   ]
  },
  {
   "cell_type": "code",
   "execution_count": 19,
   "metadata": {},
   "outputs": [
    {
     "name": "stdout",
     "output_type": "stream",
     "text": [
      "Jaccards: 18002\n",
      "Preferential Attachment: 7745100\n"
     ]
    }
   ],
   "source": [
    "print(f\"Jaccards: {np.count_nonzero(coefficients[0]['jaccards'])}\")\n",
    "print(f\"Preferential Attachment: {np.count_nonzero(coefficients[0]['preferential_attachment'])}\")"
   ]
  },
  {
   "cell_type": "code",
   "execution_count": null,
   "metadata": {},
   "outputs": [],
   "source": []
  },
  {
   "cell_type": "markdown",
   "metadata": {},
   "source": [
    "# Aggregate these coefficients into the main dataframe."
   ]
  },
  {
   "cell_type": "code",
   "execution_count": null,
   "metadata": {},
   "outputs": [],
   "source": [
    "# venue_df_list.append(nx.to_pandas_edgelist(nx_graphs[i],source=\"Source\",target=\"Target\"))\n",
    "# concat_venue_df = pd.concat(venue_df_list)\n",
    "# concat_venue_df.head()"
   ]
  },
  {
   "cell_type": "code",
   "execution_count": 23,
   "metadata": {},
   "outputs": [],
   "source": [
    "coeff_list = []\n",
    "\n",
    "for count, day_graph in enumerate(coefficients):\n",
    "\t# pickle.dump(day, open(f'pickle_files/{count}_coefficients.p', 'wb'))\n",
    "\tday_graph[\"day\"] = count"
   ]
  },
  {
   "cell_type": "code",
   "execution_count": 15,
   "metadata": {},
   "outputs": [
    {
     "ename": "MemoryError",
     "evalue": "Unable to allocate 1.62 GiB for an array with shape (1, 217070611) and data type int64",
     "output_type": "error",
     "traceback": [
      "\u001b[1;31m---------------------------------------------------------------------------\u001b[0m",
      "\u001b[1;31mMemoryError\u001b[0m                               Traceback (most recent call last)",
      "\u001b[1;32m~\\AppData\\Local\\Temp/ipykernel_19004/4198837427.py\u001b[0m in \u001b[0;36m<module>\u001b[1;34m\u001b[0m\n\u001b[0;32m      5\u001b[0m         \u001b[0mday_graph\u001b[0m\u001b[1;33m[\u001b[0m\u001b[1;34m\"day\"\u001b[0m\u001b[1;33m]\u001b[0m \u001b[1;33m=\u001b[0m \u001b[0mi\u001b[0m\u001b[1;33m\u001b[0m\u001b[1;33m\u001b[0m\u001b[0m\n\u001b[0;32m      6\u001b[0m \u001b[1;33m\u001b[0m\u001b[0m\n\u001b[1;32m----> 7\u001b[1;33m         \u001b[0mtotal_df\u001b[0m \u001b[1;33m=\u001b[0m \u001b[0mpd\u001b[0m\u001b[1;33m.\u001b[0m\u001b[0mconcat\u001b[0m\u001b[1;33m(\u001b[0m\u001b[1;33m[\u001b[0m\u001b[0mtotal_df\u001b[0m\u001b[1;33m,\u001b[0m \u001b[0mday_graph\u001b[0m\u001b[1;33m]\u001b[0m\u001b[1;33m)\u001b[0m\u001b[1;33m\u001b[0m\u001b[1;33m\u001b[0m\u001b[0m\n\u001b[0m",
      "\u001b[1;32m~\\anaconda3\\envs\\networks\\lib\\site-packages\\pandas\\util\\_decorators.py\u001b[0m in \u001b[0;36mwrapper\u001b[1;34m(*args, **kwargs)\u001b[0m\n\u001b[0;32m    309\u001b[0m                     \u001b[0mstacklevel\u001b[0m\u001b[1;33m=\u001b[0m\u001b[0mstacklevel\u001b[0m\u001b[1;33m,\u001b[0m\u001b[1;33m\u001b[0m\u001b[1;33m\u001b[0m\u001b[0m\n\u001b[0;32m    310\u001b[0m                 )\n\u001b[1;32m--> 311\u001b[1;33m             \u001b[1;32mreturn\u001b[0m \u001b[0mfunc\u001b[0m\u001b[1;33m(\u001b[0m\u001b[1;33m*\u001b[0m\u001b[0margs\u001b[0m\u001b[1;33m,\u001b[0m \u001b[1;33m**\u001b[0m\u001b[0mkwargs\u001b[0m\u001b[1;33m)\u001b[0m\u001b[1;33m\u001b[0m\u001b[1;33m\u001b[0m\u001b[0m\n\u001b[0m\u001b[0;32m    312\u001b[0m \u001b[1;33m\u001b[0m\u001b[0m\n\u001b[0;32m    313\u001b[0m         \u001b[1;32mreturn\u001b[0m \u001b[0mwrapper\u001b[0m\u001b[1;33m\u001b[0m\u001b[1;33m\u001b[0m\u001b[0m\n",
      "\u001b[1;32m~\\anaconda3\\envs\\networks\\lib\\site-packages\\pandas\\core\\reshape\\concat.py\u001b[0m in \u001b[0;36mconcat\u001b[1;34m(objs, axis, join, ignore_index, keys, levels, names, verify_integrity, sort, copy)\u001b[0m\n\u001b[0;32m    305\u001b[0m     )\n\u001b[0;32m    306\u001b[0m \u001b[1;33m\u001b[0m\u001b[0m\n\u001b[1;32m--> 307\u001b[1;33m     \u001b[1;32mreturn\u001b[0m \u001b[0mop\u001b[0m\u001b[1;33m.\u001b[0m\u001b[0mget_result\u001b[0m\u001b[1;33m(\u001b[0m\u001b[1;33m)\u001b[0m\u001b[1;33m\u001b[0m\u001b[1;33m\u001b[0m\u001b[0m\n\u001b[0m\u001b[0;32m    308\u001b[0m \u001b[1;33m\u001b[0m\u001b[0m\n\u001b[0;32m    309\u001b[0m \u001b[1;33m\u001b[0m\u001b[0m\n",
      "\u001b[1;32m~\\anaconda3\\envs\\networks\\lib\\site-packages\\pandas\\core\\reshape\\concat.py\u001b[0m in \u001b[0;36mget_result\u001b[1;34m(self)\u001b[0m\n\u001b[0;32m    530\u001b[0m                 \u001b[0mmgrs_indexers\u001b[0m\u001b[1;33m.\u001b[0m\u001b[0mappend\u001b[0m\u001b[1;33m(\u001b[0m\u001b[1;33m(\u001b[0m\u001b[0mobj\u001b[0m\u001b[1;33m.\u001b[0m\u001b[0m_mgr\u001b[0m\u001b[1;33m,\u001b[0m \u001b[0mindexers\u001b[0m\u001b[1;33m)\u001b[0m\u001b[1;33m)\u001b[0m\u001b[1;33m\u001b[0m\u001b[1;33m\u001b[0m\u001b[0m\n\u001b[0;32m    531\u001b[0m \u001b[1;33m\u001b[0m\u001b[0m\n\u001b[1;32m--> 532\u001b[1;33m             new_data = concatenate_managers(\n\u001b[0m\u001b[0;32m    533\u001b[0m                 \u001b[0mmgrs_indexers\u001b[0m\u001b[1;33m,\u001b[0m \u001b[0mself\u001b[0m\u001b[1;33m.\u001b[0m\u001b[0mnew_axes\u001b[0m\u001b[1;33m,\u001b[0m \u001b[0mconcat_axis\u001b[0m\u001b[1;33m=\u001b[0m\u001b[0mself\u001b[0m\u001b[1;33m.\u001b[0m\u001b[0mbm_axis\u001b[0m\u001b[1;33m,\u001b[0m \u001b[0mcopy\u001b[0m\u001b[1;33m=\u001b[0m\u001b[0mself\u001b[0m\u001b[1;33m.\u001b[0m\u001b[0mcopy\u001b[0m\u001b[1;33m\u001b[0m\u001b[1;33m\u001b[0m\u001b[0m\n\u001b[0;32m    534\u001b[0m             )\n",
      "\u001b[1;32m~\\anaconda3\\envs\\networks\\lib\\site-packages\\pandas\\core\\internals\\concat.py\u001b[0m in \u001b[0;36mconcatenate_managers\u001b[1;34m(mgrs_indexers, axes, concat_axis, copy)\u001b[0m\n\u001b[0;32m    214\u001b[0m                 \u001b[1;31m#  we can use np.concatenate, which is more performant\u001b[0m\u001b[1;33m\u001b[0m\u001b[1;33m\u001b[0m\u001b[1;33m\u001b[0m\u001b[0m\n\u001b[0;32m    215\u001b[0m                 \u001b[1;31m#  than concat_compat\u001b[0m\u001b[1;33m\u001b[0m\u001b[1;33m\u001b[0m\u001b[1;33m\u001b[0m\u001b[0m\n\u001b[1;32m--> 216\u001b[1;33m                 \u001b[0mvalues\u001b[0m \u001b[1;33m=\u001b[0m \u001b[0mnp\u001b[0m\u001b[1;33m.\u001b[0m\u001b[0mconcatenate\u001b[0m\u001b[1;33m(\u001b[0m\u001b[0mvals\u001b[0m\u001b[1;33m,\u001b[0m \u001b[0maxis\u001b[0m\u001b[1;33m=\u001b[0m\u001b[0mblk\u001b[0m\u001b[1;33m.\u001b[0m\u001b[0mndim\u001b[0m \u001b[1;33m-\u001b[0m \u001b[1;36m1\u001b[0m\u001b[1;33m)\u001b[0m\u001b[1;33m\u001b[0m\u001b[1;33m\u001b[0m\u001b[0m\n\u001b[0m\u001b[0;32m    217\u001b[0m             \u001b[1;32melse\u001b[0m\u001b[1;33m:\u001b[0m\u001b[1;33m\u001b[0m\u001b[1;33m\u001b[0m\u001b[0m\n\u001b[0;32m    218\u001b[0m                 \u001b[1;31m# TODO(EA2D): special-casing not needed with 2D EAs\u001b[0m\u001b[1;33m\u001b[0m\u001b[1;33m\u001b[0m\u001b[1;33m\u001b[0m\u001b[0m\n",
      "\u001b[1;32m<__array_function__ internals>\u001b[0m in \u001b[0;36mconcatenate\u001b[1;34m(*args, **kwargs)\u001b[0m\n",
      "\u001b[1;31mMemoryError\u001b[0m: Unable to allocate 1.62 GiB for an array with shape (1, 217070611) and data type int64"
     ]
    }
   ],
   "source": [
    "total_df = pd.DataFrame()\n",
    "\n",
    "for i in range(30):\n",
    "\tday_graph = pd.read_csv(f\"graph_files/coefficients/{i}_coefficients\", index_col=0)\n",
    "\tday_graph[\"day\"] = i\n",
    "\n",
    "\ttotal_df = pd.concat([total_df, day_graph])"
   ]
  },
  {
   "cell_type": "code",
   "execution_count": null,
   "metadata": {},
   "outputs": [
    {
     "data": {
      "text/plain": [
       "7745100"
      ]
     },
     "execution_count": 14,
     "metadata": {},
     "output_type": "execute_result"
    }
   ],
   "source": [
    "len(total_df)"
   ]
  },
  {
   "cell_type": "code",
   "execution_count": null,
   "metadata": {},
   "outputs": [],
   "source": []
  }
 ],
 "metadata": {
  "interpreter": {
   "hash": "3824a003b15f124ccca577d960d06f2967b0573bc57408d6a41df6972410d6b7"
  },
  "kernelspec": {
   "display_name": "Python 3.8.12 64-bit ('networks': conda)",
   "language": "python",
   "name": "python3"
  },
  "language_info": {
   "codemirror_mode": {
    "name": "ipython",
    "version": 3
   },
   "file_extension": ".py",
   "mimetype": "text/x-python",
   "name": "python",
   "nbconvert_exporter": "python",
   "pygments_lexer": "ipython3",
   "version": "3.8.12"
  },
  "orig_nbformat": 4
 },
 "nbformat": 4,
 "nbformat_minor": 2
}
