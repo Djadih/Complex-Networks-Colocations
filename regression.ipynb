{
 "cells": [
  {
   "cell_type": "code",
   "execution_count": 1,
   "metadata": {},
   "outputs": [],
   "source": [
    "import networkx as nx\n",
    "import numpy as np\n",
    "import pandas as pd \n",
    "import operator\n",
    "import matplotlib.pyplot as plt\n",
    "import random"
   ]
  },
  {
   "cell_type": "code",
   "execution_count": 2,
   "metadata": {},
   "outputs": [
    {
     "data": {
      "text/html": [
       "<div>\n",
       "<style scoped>\n",
       "    .dataframe tbody tr th:only-of-type {\n",
       "        vertical-align: middle;\n",
       "    }\n",
       "\n",
       "    .dataframe tbody tr th {\n",
       "        vertical-align: top;\n",
       "    }\n",
       "\n",
       "    .dataframe thead th {\n",
       "        text-align: right;\n",
       "    }\n",
       "</style>\n",
       "<table border=\"1\" class=\"dataframe\">\n",
       "  <thead>\n",
       "    <tr style=\"text-align: right;\">\n",
       "      <th></th>\n",
       "      <th>Source</th>\n",
       "      <th>Target</th>\n",
       "      <th>id</th>\n",
       "      <th>hour</th>\n",
       "      <th>visits</th>\n",
       "      <th>time_spent</th>\n",
       "      <th>venueid</th>\n",
       "      <th>day</th>\n",
       "    </tr>\n",
       "  </thead>\n",
       "  <tbody>\n",
       "    <tr>\n",
       "      <th>0</th>\n",
       "      <td>2adee8895bc53ddebe8fb9c8a532f8bb5105a0d5bdcfd7...</td>\n",
       "      <td>d531979041494d0d0d2387cfc611f6e70d91bcb92cf966...</td>\n",
       "      <td>0</td>\n",
       "      <td>2</td>\n",
       "      <td>18</td>\n",
       "      <td>976</td>\n",
       "      <td>440da2cbf964a52091301fe3</td>\n",
       "      <td>0</td>\n",
       "    </tr>\n",
       "    <tr>\n",
       "      <th>1</th>\n",
       "      <td>2adee8895bc53ddebe8fb9c8a532f8bb5105a0d5bdcfd7...</td>\n",
       "      <td>cf4e564f4c8e3aecc9dacafce90cada3eabaff58464e74...</td>\n",
       "      <td>1</td>\n",
       "      <td>2</td>\n",
       "      <td>2</td>\n",
       "      <td>100</td>\n",
       "      <td>440da2cbf964a52091301fe3</td>\n",
       "      <td>0</td>\n",
       "    </tr>\n",
       "    <tr>\n",
       "      <th>2</th>\n",
       "      <td>2adee8895bc53ddebe8fb9c8a532f8bb5105a0d5bdcfd7...</td>\n",
       "      <td>594a39e074fda9219102eff386f3da1944494aaa18c036...</td>\n",
       "      <td>2</td>\n",
       "      <td>4</td>\n",
       "      <td>2</td>\n",
       "      <td>14</td>\n",
       "      <td>440da2cbf964a52091301fe3</td>\n",
       "      <td>0</td>\n",
       "    </tr>\n",
       "    <tr>\n",
       "      <th>3</th>\n",
       "      <td>2adee8895bc53ddebe8fb9c8a532f8bb5105a0d5bdcfd7...</td>\n",
       "      <td>a1470e73f1bc4f7c757c49138afd84bd1ad09e9277526a...</td>\n",
       "      <td>3</td>\n",
       "      <td>5</td>\n",
       "      <td>3</td>\n",
       "      <td>148</td>\n",
       "      <td>440da2cbf964a52091301fe3</td>\n",
       "      <td>0</td>\n",
       "    </tr>\n",
       "    <tr>\n",
       "      <th>4</th>\n",
       "      <td>2adee8895bc53ddebe8fb9c8a532f8bb5105a0d5bdcfd7...</td>\n",
       "      <td>6f8848838f9afe5a7b38c23ad5018179f69e518ee721ba...</td>\n",
       "      <td>4</td>\n",
       "      <td>5</td>\n",
       "      <td>9</td>\n",
       "      <td>526</td>\n",
       "      <td>440da2cbf964a52091301fe3</td>\n",
       "      <td>0</td>\n",
       "    </tr>\n",
       "  </tbody>\n",
       "</table>\n",
       "</div>"
      ],
      "text/plain": [
       "                                              Source  \\\n",
       "0  2adee8895bc53ddebe8fb9c8a532f8bb5105a0d5bdcfd7...   \n",
       "1  2adee8895bc53ddebe8fb9c8a532f8bb5105a0d5bdcfd7...   \n",
       "2  2adee8895bc53ddebe8fb9c8a532f8bb5105a0d5bdcfd7...   \n",
       "3  2adee8895bc53ddebe8fb9c8a532f8bb5105a0d5bdcfd7...   \n",
       "4  2adee8895bc53ddebe8fb9c8a532f8bb5105a0d5bdcfd7...   \n",
       "\n",
       "                                              Target id  hour  visits  \\\n",
       "0  d531979041494d0d0d2387cfc611f6e70d91bcb92cf966...  0     2      18   \n",
       "1  cf4e564f4c8e3aecc9dacafce90cada3eabaff58464e74...  1     2       2   \n",
       "2  594a39e074fda9219102eff386f3da1944494aaa18c036...  2     4       2   \n",
       "3  a1470e73f1bc4f7c757c49138afd84bd1ad09e9277526a...  3     5       3   \n",
       "4  6f8848838f9afe5a7b38c23ad5018179f69e518ee721ba...  4     5       9   \n",
       "\n",
       "   time_spent                   venueid  day  \n",
       "0         976  440da2cbf964a52091301fe3    0  \n",
       "1         100  440da2cbf964a52091301fe3    0  \n",
       "2          14  440da2cbf964a52091301fe3    0  \n",
       "3         148  440da2cbf964a52091301fe3    0  \n",
       "4         526  440da2cbf964a52091301fe3    0  "
      ]
     },
     "execution_count": 2,
     "metadata": {},
     "output_type": "execute_result"
    }
   ],
   "source": [
    "nx_graphs = []\n",
    "agg_graph = nx.MultiGraph()\n",
    "venue_df_list = []\n",
    "for i in range(31):\n",
    "    # with open(f'..\\ATX_Networks\\sim_day_{i+1}.gexf') as graph_file:\n",
    "    nx_graphs.append(nx.read_gexf(f'..\\ATX_Networks\\sim_day_{i+1}.gexf'))\n",
    "    df = nx.to_pandas_edgelist(nx_graphs[i],source=\"Source\",target=\"Target\")\n",
    "    df['day'] = i\n",
    "    venue_df_list.append(df)\n",
    "\n",
    "concat_venue_df = pd.concat(venue_df_list)\n",
    "# concat_venue_df.columns = ['source','target','venueid']\n",
    "concat_venue_df.head()\n"
   ]
  },
  {
   "cell_type": "code",
   "execution_count": 3,
   "metadata": {},
   "outputs": [
    {
     "data": {
      "text/html": [
       "<div>\n",
       "<style scoped>\n",
       "    .dataframe tbody tr th:only-of-type {\n",
       "        vertical-align: middle;\n",
       "    }\n",
       "\n",
       "    .dataframe tbody tr th {\n",
       "        vertical-align: top;\n",
       "    }\n",
       "\n",
       "    .dataframe thead th {\n",
       "        text-align: right;\n",
       "    }\n",
       "</style>\n",
       "<table border=\"1\" class=\"dataframe\">\n",
       "  <thead>\n",
       "    <tr style=\"text-align: right;\">\n",
       "      <th></th>\n",
       "      <th>Source</th>\n",
       "      <th>Target</th>\n",
       "      <th>id</th>\n",
       "      <th>hour</th>\n",
       "      <th>visits</th>\n",
       "      <th>time_spent</th>\n",
       "      <th>venueid</th>\n",
       "      <th>day</th>\n",
       "      <th>venuename</th>\n",
       "      <th>address</th>\n",
       "      <th>...</th>\n",
       "      <th>level1cat</th>\n",
       "      <th>level2catId</th>\n",
       "      <th>level2cat</th>\n",
       "      <th>level3catId</th>\n",
       "      <th>level3cat</th>\n",
       "      <th>chainid</th>\n",
       "      <th>chainname</th>\n",
       "      <th>parentvenueid</th>\n",
       "      <th>zip</th>\n",
       "      <th>sample</th>\n",
       "    </tr>\n",
       "  </thead>\n",
       "  <tbody>\n",
       "    <tr>\n",
       "      <th>0</th>\n",
       "      <td>2adee8895bc53ddebe8fb9c8a532f8bb5105a0d5bdcfd7...</td>\n",
       "      <td>d531979041494d0d0d2387cfc611f6e70d91bcb92cf966...</td>\n",
       "      <td>0</td>\n",
       "      <td>2</td>\n",
       "      <td>18</td>\n",
       "      <td>976</td>\n",
       "      <td>440da2cbf964a52091301fe3</td>\n",
       "      <td>0</td>\n",
       "      <td>Austin Bergstrom International Airport (AUS)</td>\n",
       "      <td>3600 Presidential Blvd</td>\n",
       "      <td>...</td>\n",
       "      <td>Travel &amp; Transport</td>\n",
       "      <td>4bf58dd8d48988d1ed931735</td>\n",
       "      <td>Airports</td>\n",
       "      <td>NaN</td>\n",
       "      <td>NaN</td>\n",
       "      <td>NaN</td>\n",
       "      <td>NaN</td>\n",
       "      <td>NaN</td>\n",
       "      <td>78719</td>\n",
       "      <td>us_all</td>\n",
       "    </tr>\n",
       "    <tr>\n",
       "      <th>1</th>\n",
       "      <td>2adee8895bc53ddebe8fb9c8a532f8bb5105a0d5bdcfd7...</td>\n",
       "      <td>cf4e564f4c8e3aecc9dacafce90cada3eabaff58464e74...</td>\n",
       "      <td>1</td>\n",
       "      <td>2</td>\n",
       "      <td>2</td>\n",
       "      <td>100</td>\n",
       "      <td>440da2cbf964a52091301fe3</td>\n",
       "      <td>0</td>\n",
       "      <td>Austin Bergstrom International Airport (AUS)</td>\n",
       "      <td>3600 Presidential Blvd</td>\n",
       "      <td>...</td>\n",
       "      <td>Travel &amp; Transport</td>\n",
       "      <td>4bf58dd8d48988d1ed931735</td>\n",
       "      <td>Airports</td>\n",
       "      <td>NaN</td>\n",
       "      <td>NaN</td>\n",
       "      <td>NaN</td>\n",
       "      <td>NaN</td>\n",
       "      <td>NaN</td>\n",
       "      <td>78719</td>\n",
       "      <td>us_all</td>\n",
       "    </tr>\n",
       "    <tr>\n",
       "      <th>2</th>\n",
       "      <td>2adee8895bc53ddebe8fb9c8a532f8bb5105a0d5bdcfd7...</td>\n",
       "      <td>594a39e074fda9219102eff386f3da1944494aaa18c036...</td>\n",
       "      <td>2</td>\n",
       "      <td>4</td>\n",
       "      <td>2</td>\n",
       "      <td>14</td>\n",
       "      <td>440da2cbf964a52091301fe3</td>\n",
       "      <td>0</td>\n",
       "      <td>Austin Bergstrom International Airport (AUS)</td>\n",
       "      <td>3600 Presidential Blvd</td>\n",
       "      <td>...</td>\n",
       "      <td>Travel &amp; Transport</td>\n",
       "      <td>4bf58dd8d48988d1ed931735</td>\n",
       "      <td>Airports</td>\n",
       "      <td>NaN</td>\n",
       "      <td>NaN</td>\n",
       "      <td>NaN</td>\n",
       "      <td>NaN</td>\n",
       "      <td>NaN</td>\n",
       "      <td>78719</td>\n",
       "      <td>us_all</td>\n",
       "    </tr>\n",
       "    <tr>\n",
       "      <th>3</th>\n",
       "      <td>2adee8895bc53ddebe8fb9c8a532f8bb5105a0d5bdcfd7...</td>\n",
       "      <td>a1470e73f1bc4f7c757c49138afd84bd1ad09e9277526a...</td>\n",
       "      <td>3</td>\n",
       "      <td>5</td>\n",
       "      <td>3</td>\n",
       "      <td>148</td>\n",
       "      <td>440da2cbf964a52091301fe3</td>\n",
       "      <td>0</td>\n",
       "      <td>Austin Bergstrom International Airport (AUS)</td>\n",
       "      <td>3600 Presidential Blvd</td>\n",
       "      <td>...</td>\n",
       "      <td>Travel &amp; Transport</td>\n",
       "      <td>4bf58dd8d48988d1ed931735</td>\n",
       "      <td>Airports</td>\n",
       "      <td>NaN</td>\n",
       "      <td>NaN</td>\n",
       "      <td>NaN</td>\n",
       "      <td>NaN</td>\n",
       "      <td>NaN</td>\n",
       "      <td>78719</td>\n",
       "      <td>us_all</td>\n",
       "    </tr>\n",
       "    <tr>\n",
       "      <th>4</th>\n",
       "      <td>2adee8895bc53ddebe8fb9c8a532f8bb5105a0d5bdcfd7...</td>\n",
       "      <td>6f8848838f9afe5a7b38c23ad5018179f69e518ee721ba...</td>\n",
       "      <td>4</td>\n",
       "      <td>5</td>\n",
       "      <td>9</td>\n",
       "      <td>526</td>\n",
       "      <td>440da2cbf964a52091301fe3</td>\n",
       "      <td>0</td>\n",
       "      <td>Austin Bergstrom International Airport (AUS)</td>\n",
       "      <td>3600 Presidential Blvd</td>\n",
       "      <td>...</td>\n",
       "      <td>Travel &amp; Transport</td>\n",
       "      <td>4bf58dd8d48988d1ed931735</td>\n",
       "      <td>Airports</td>\n",
       "      <td>NaN</td>\n",
       "      <td>NaN</td>\n",
       "      <td>NaN</td>\n",
       "      <td>NaN</td>\n",
       "      <td>NaN</td>\n",
       "      <td>78719</td>\n",
       "      <td>us_all</td>\n",
       "    </tr>\n",
       "  </tbody>\n",
       "</table>\n",
       "<p>5 rows × 29 columns</p>\n",
       "</div>"
      ],
      "text/plain": [
       "                                              Source  \\\n",
       "0  2adee8895bc53ddebe8fb9c8a532f8bb5105a0d5bdcfd7...   \n",
       "1  2adee8895bc53ddebe8fb9c8a532f8bb5105a0d5bdcfd7...   \n",
       "2  2adee8895bc53ddebe8fb9c8a532f8bb5105a0d5bdcfd7...   \n",
       "3  2adee8895bc53ddebe8fb9c8a532f8bb5105a0d5bdcfd7...   \n",
       "4  2adee8895bc53ddebe8fb9c8a532f8bb5105a0d5bdcfd7...   \n",
       "\n",
       "                                              Target id  hour  visits  \\\n",
       "0  d531979041494d0d0d2387cfc611f6e70d91bcb92cf966...  0     2      18   \n",
       "1  cf4e564f4c8e3aecc9dacafce90cada3eabaff58464e74...  1     2       2   \n",
       "2  594a39e074fda9219102eff386f3da1944494aaa18c036...  2     4       2   \n",
       "3  a1470e73f1bc4f7c757c49138afd84bd1ad09e9277526a...  3     5       3   \n",
       "4  6f8848838f9afe5a7b38c23ad5018179f69e518ee721ba...  4     5       9   \n",
       "\n",
       "   time_spent                   venueid  day  \\\n",
       "0         976  440da2cbf964a52091301fe3    0   \n",
       "1         100  440da2cbf964a52091301fe3    0   \n",
       "2          14  440da2cbf964a52091301fe3    0   \n",
       "3         148  440da2cbf964a52091301fe3    0   \n",
       "4         526  440da2cbf964a52091301fe3    0   \n",
       "\n",
       "                                      venuename                 address  ...  \\\n",
       "0  Austin Bergstrom International Airport (AUS)  3600 Presidential Blvd  ...   \n",
       "1  Austin Bergstrom International Airport (AUS)  3600 Presidential Blvd  ...   \n",
       "2  Austin Bergstrom International Airport (AUS)  3600 Presidential Blvd  ...   \n",
       "3  Austin Bergstrom International Airport (AUS)  3600 Presidential Blvd  ...   \n",
       "4  Austin Bergstrom International Airport (AUS)  3600 Presidential Blvd  ...   \n",
       "\n",
       "            level1cat               level2catId level2cat level3catId  \\\n",
       "0  Travel & Transport  4bf58dd8d48988d1ed931735  Airports         NaN   \n",
       "1  Travel & Transport  4bf58dd8d48988d1ed931735  Airports         NaN   \n",
       "2  Travel & Transport  4bf58dd8d48988d1ed931735  Airports         NaN   \n",
       "3  Travel & Transport  4bf58dd8d48988d1ed931735  Airports         NaN   \n",
       "4  Travel & Transport  4bf58dd8d48988d1ed931735  Airports         NaN   \n",
       "\n",
       "   level3cat  chainid chainname parentvenueid    zip  sample  \n",
       "0        NaN      NaN       NaN           NaN  78719  us_all  \n",
       "1        NaN      NaN       NaN           NaN  78719  us_all  \n",
       "2        NaN      NaN       NaN           NaN  78719  us_all  \n",
       "3        NaN      NaN       NaN           NaN  78719  us_all  \n",
       "4        NaN      NaN       NaN           NaN  78719  us_all  \n",
       "\n",
       "[5 rows x 29 columns]"
      ]
     },
     "execution_count": 3,
     "metadata": {},
     "output_type": "execute_result"
    }
   ],
   "source": [
    "places_df = pd.read_csv(\"../RVF_ATX_PID_HZ_Places_Lookup.tsv\",delimiter='\\t')\n",
    "merged_df = concat_venue_df.merge(places_df, on='venueid')\n",
    "merged_df.head()"
   ]
  },
  {
   "cell_type": "code",
   "execution_count": 4,
   "metadata": {},
   "outputs": [
    {
     "name": "stdout",
     "output_type": "stream",
     "text": [
      "The range of time spent is from 0 to 3420\n"
     ]
    }
   ],
   "source": [
    "#time_spent, hour, zip, visits, venueid\n",
    "# unique_venues = set(merged_df[\"venueid\"])\n",
    "# unique_hours = set(np.arange(25))\n",
    "# max_time_spent = merged_df['time_spent'].max()\n",
    "# min_time_spent = merged_df['time_spent'].min()\n",
    "# max_visits = merged_df['visits'].max()\n",
    "# min_visits = merged_df['visits'].min()\n",
    "# time_spent_range = set(np.arange(min_time_spent, max_time_spent+1))\n",
    "# visit_range = set(np.arange(min_visits,max_visits+1))\n",
    "# print(f\"The range of time spent is from {min_time_spent} to {max_time_spent}\")\n"
   ]
  },
  {
   "cell_type": "code",
   "execution_count": 5,
   "metadata": {},
   "outputs": [],
   "source": [
    "source_set = set(merged_df['Source'].unique())\n",
    "target_set = set(merged_df['Target'].unique())\n",
    "node_set = source_set.union(target_set)"
   ]
  },
  {
   "cell_type": "code",
   "execution_count": 6,
   "metadata": {},
   "outputs": [],
   "source": [
    "# #Generate negative samples\n",
    "\n",
    "# neg_df = pd.DataFrame(columns=[\"Source, Target, venueid, hour, time_spent, visits\"])\n",
    "# count = 0\n",
    "# while len(neg_df) < len(merged_df):\n",
    "#     neg_edge = random.sample(node_set,k=2)\n",
    "#     if len(merged_df.loc[\n",
    "#     ((merged_df['Source']==neg_edge[0]) &\n",
    "#     ((merged_df['Target'])==neg_edge[1])) | \n",
    "#     ((merged_df['Target']==neg_edge[0]) &\n",
    "#     ((merged_df['Source'])==neg_edge[1]))])==0:\n",
    "#         # print(\"new neg sample\")\n",
    "#         sample_hour = random.sample(unique_hours,k=1)\n",
    "#         sample_time_spent = random.sample(time_spent_range,k=1)\n",
    "#         sample_venueid = random.sample(unique_venues, k=1)\n",
    "#         sample_visits = random.sample(visit_range,k=1)\n",
    "#         neg_df = neg_df.append({\n",
    "#             \"Source\":neg_edge[0],\n",
    "#             \"Target\":neg_edge[1],\n",
    "#             \"venueid\":sample_venueid,\n",
    "#             \"hour\":sample_hour,\n",
    "#             \"time_spent\":sample_time_spent,\n",
    "#             \"visits\":sample_visits\n",
    "#         }, ignore_index=True)\n",
    "#         count+=1\n",
    "#         if (count%100==0):\n",
    "#             print(f\"{(count/len(merged_df['Source'])*100)}\")\n",
    "#         if (count%10000==0):\n",
    "#             neg_df.to_csv(f\"neg_samples_{count}.csv\")\n",
    "\n"
   ]
  },
  {
   "cell_type": "code",
   "execution_count": 7,
   "metadata": {},
   "outputs": [
    {
     "data": {
      "text/html": [
       "<div>\n",
       "<style scoped>\n",
       "    .dataframe tbody tr th:only-of-type {\n",
       "        vertical-align: middle;\n",
       "    }\n",
       "\n",
       "    .dataframe tbody tr th {\n",
       "        vertical-align: top;\n",
       "    }\n",
       "\n",
       "    .dataframe thead th {\n",
       "        text-align: right;\n",
       "    }\n",
       "</style>\n",
       "<table border=\"1\" class=\"dataframe\">\n",
       "  <thead>\n",
       "    <tr style=\"text-align: right;\">\n",
       "      <th></th>\n",
       "      <th>Source</th>\n",
       "      <th>Target</th>\n",
       "      <th>venueid</th>\n",
       "      <th>hour</th>\n",
       "      <th>time_spent</th>\n",
       "      <th>visits</th>\n",
       "      <th>link</th>\n",
       "    </tr>\n",
       "  </thead>\n",
       "  <tbody>\n",
       "    <tr>\n",
       "      <th>0</th>\n",
       "      <td>4ed23ffbfe4a8997f5172d7d2da88b7b75357e4c21af6f...</td>\n",
       "      <td>d8e4658adb2cd20d208eb6f089e4c482bf7ec7fa084ea9...</td>\n",
       "      <td>4b8ab9c1f964a520a67c32e3</td>\n",
       "      <td>3</td>\n",
       "      <td>2062</td>\n",
       "      <td>25</td>\n",
       "      <td>0</td>\n",
       "    </tr>\n",
       "    <tr>\n",
       "      <th>1</th>\n",
       "      <td>eaa72c4becae4d2ab3591148f4108b054c4e4131b462c6...</td>\n",
       "      <td>c4a8e52f2e668dce7bde2ba9bc8d25403304f22b5af3d8...</td>\n",
       "      <td>52d182ce498e318bf44252b9</td>\n",
       "      <td>0</td>\n",
       "      <td>582</td>\n",
       "      <td>28</td>\n",
       "      <td>0</td>\n",
       "    </tr>\n",
       "    <tr>\n",
       "      <th>2</th>\n",
       "      <td>166a77ec53a664b5843209ffae9096aa8c3c0d7c50b6be...</td>\n",
       "      <td>76f0a03ed49c23a4c355887bcc17d3804ee59ef86af438...</td>\n",
       "      <td>5df64969ee0c6b0008830f39</td>\n",
       "      <td>7</td>\n",
       "      <td>1150</td>\n",
       "      <td>6</td>\n",
       "      <td>0</td>\n",
       "    </tr>\n",
       "    <tr>\n",
       "      <th>3</th>\n",
       "      <td>4ee265480f8d034e23799a86ca77bbd4714184ed0bb762...</td>\n",
       "      <td>db8d399352dce3ce77907a63b0b46868d8fafb952c7512...</td>\n",
       "      <td>4c043267187ec928eabcb67b</td>\n",
       "      <td>2</td>\n",
       "      <td>2091</td>\n",
       "      <td>24</td>\n",
       "      <td>0</td>\n",
       "    </tr>\n",
       "    <tr>\n",
       "      <th>4</th>\n",
       "      <td>f25ea6a51502faa56c1cad5879d4731686acb9563da459...</td>\n",
       "      <td>6412ee7431487ab88234c16c2c871a942d325d86a6992b...</td>\n",
       "      <td>5bf342d2418686002c8d6005</td>\n",
       "      <td>5</td>\n",
       "      <td>1148</td>\n",
       "      <td>25</td>\n",
       "      <td>0</td>\n",
       "    </tr>\n",
       "  </tbody>\n",
       "</table>\n",
       "</div>"
      ],
      "text/plain": [
       "                                              Source  \\\n",
       "0  4ed23ffbfe4a8997f5172d7d2da88b7b75357e4c21af6f...   \n",
       "1  eaa72c4becae4d2ab3591148f4108b054c4e4131b462c6...   \n",
       "2  166a77ec53a664b5843209ffae9096aa8c3c0d7c50b6be...   \n",
       "3  4ee265480f8d034e23799a86ca77bbd4714184ed0bb762...   \n",
       "4  f25ea6a51502faa56c1cad5879d4731686acb9563da459...   \n",
       "\n",
       "                                              Target  \\\n",
       "0  d8e4658adb2cd20d208eb6f089e4c482bf7ec7fa084ea9...   \n",
       "1  c4a8e52f2e668dce7bde2ba9bc8d25403304f22b5af3d8...   \n",
       "2  76f0a03ed49c23a4c355887bcc17d3804ee59ef86af438...   \n",
       "3  db8d399352dce3ce77907a63b0b46868d8fafb952c7512...   \n",
       "4  6412ee7431487ab88234c16c2c871a942d325d86a6992b...   \n",
       "\n",
       "                    venueid  hour  time_spent  visits  link  \n",
       "0  4b8ab9c1f964a520a67c32e3     3        2062      25     0  \n",
       "1  52d182ce498e318bf44252b9     0         582      28     0  \n",
       "2  5df64969ee0c6b0008830f39     7        1150       6     0  \n",
       "3  4c043267187ec928eabcb67b     2        2091      24     0  \n",
       "4  5bf342d2418686002c8d6005     5        1148      25     0  "
      ]
     },
     "execution_count": 7,
     "metadata": {},
     "output_type": "execute_result"
    }
   ],
   "source": [
    "neg_df = pd.read_csv(\"neg_samples_180000.csv\")\n",
    "features_df_neg = neg_df.copy()[[\"Source\",\"Target\",\"venueid\",\"hour\",\"time_spent\",\"visits\"]]\n",
    "features_df_neg[\"link\"] = 0\n",
    "features_df_neg = features_df_neg.astype({\"hour\":\"int32\",\"visits\":\"int32\",\"time_spent\":\"int32\"})\n",
    "features_df_neg.head()"
   ]
  },
  {
   "cell_type": "code",
   "execution_count": 8,
   "metadata": {},
   "outputs": [
    {
     "data": {
      "text/html": [
       "<div>\n",
       "<style scoped>\n",
       "    .dataframe tbody tr th:only-of-type {\n",
       "        vertical-align: middle;\n",
       "    }\n",
       "\n",
       "    .dataframe tbody tr th {\n",
       "        vertical-align: top;\n",
       "    }\n",
       "\n",
       "    .dataframe thead th {\n",
       "        text-align: right;\n",
       "    }\n",
       "</style>\n",
       "<table border=\"1\" class=\"dataframe\">\n",
       "  <thead>\n",
       "    <tr style=\"text-align: right;\">\n",
       "      <th></th>\n",
       "      <th>Source</th>\n",
       "      <th>Target</th>\n",
       "      <th>venueid</th>\n",
       "      <th>hour</th>\n",
       "      <th>time_spent</th>\n",
       "      <th>visits</th>\n",
       "      <th>day</th>\n",
       "      <th>link</th>\n",
       "    </tr>\n",
       "  </thead>\n",
       "  <tbody>\n",
       "    <tr>\n",
       "      <th>0</th>\n",
       "      <td>2adee8895bc53ddebe8fb9c8a532f8bb5105a0d5bdcfd7...</td>\n",
       "      <td>d531979041494d0d0d2387cfc611f6e70d91bcb92cf966...</td>\n",
       "      <td>440da2cbf964a52091301fe3</td>\n",
       "      <td>2</td>\n",
       "      <td>976</td>\n",
       "      <td>18</td>\n",
       "      <td>0</td>\n",
       "      <td>1</td>\n",
       "    </tr>\n",
       "    <tr>\n",
       "      <th>1</th>\n",
       "      <td>2adee8895bc53ddebe8fb9c8a532f8bb5105a0d5bdcfd7...</td>\n",
       "      <td>cf4e564f4c8e3aecc9dacafce90cada3eabaff58464e74...</td>\n",
       "      <td>440da2cbf964a52091301fe3</td>\n",
       "      <td>2</td>\n",
       "      <td>100</td>\n",
       "      <td>2</td>\n",
       "      <td>0</td>\n",
       "      <td>1</td>\n",
       "    </tr>\n",
       "    <tr>\n",
       "      <th>2</th>\n",
       "      <td>2adee8895bc53ddebe8fb9c8a532f8bb5105a0d5bdcfd7...</td>\n",
       "      <td>594a39e074fda9219102eff386f3da1944494aaa18c036...</td>\n",
       "      <td>440da2cbf964a52091301fe3</td>\n",
       "      <td>4</td>\n",
       "      <td>14</td>\n",
       "      <td>2</td>\n",
       "      <td>0</td>\n",
       "      <td>1</td>\n",
       "    </tr>\n",
       "    <tr>\n",
       "      <th>3</th>\n",
       "      <td>2adee8895bc53ddebe8fb9c8a532f8bb5105a0d5bdcfd7...</td>\n",
       "      <td>a1470e73f1bc4f7c757c49138afd84bd1ad09e9277526a...</td>\n",
       "      <td>440da2cbf964a52091301fe3</td>\n",
       "      <td>5</td>\n",
       "      <td>148</td>\n",
       "      <td>3</td>\n",
       "      <td>0</td>\n",
       "      <td>1</td>\n",
       "    </tr>\n",
       "    <tr>\n",
       "      <th>4</th>\n",
       "      <td>2adee8895bc53ddebe8fb9c8a532f8bb5105a0d5bdcfd7...</td>\n",
       "      <td>6f8848838f9afe5a7b38c23ad5018179f69e518ee721ba...</td>\n",
       "      <td>440da2cbf964a52091301fe3</td>\n",
       "      <td>5</td>\n",
       "      <td>526</td>\n",
       "      <td>9</td>\n",
       "      <td>0</td>\n",
       "      <td>1</td>\n",
       "    </tr>\n",
       "  </tbody>\n",
       "</table>\n",
       "</div>"
      ],
      "text/plain": [
       "                                              Source  \\\n",
       "0  2adee8895bc53ddebe8fb9c8a532f8bb5105a0d5bdcfd7...   \n",
       "1  2adee8895bc53ddebe8fb9c8a532f8bb5105a0d5bdcfd7...   \n",
       "2  2adee8895bc53ddebe8fb9c8a532f8bb5105a0d5bdcfd7...   \n",
       "3  2adee8895bc53ddebe8fb9c8a532f8bb5105a0d5bdcfd7...   \n",
       "4  2adee8895bc53ddebe8fb9c8a532f8bb5105a0d5bdcfd7...   \n",
       "\n",
       "                                              Target  \\\n",
       "0  d531979041494d0d0d2387cfc611f6e70d91bcb92cf966...   \n",
       "1  cf4e564f4c8e3aecc9dacafce90cada3eabaff58464e74...   \n",
       "2  594a39e074fda9219102eff386f3da1944494aaa18c036...   \n",
       "3  a1470e73f1bc4f7c757c49138afd84bd1ad09e9277526a...   \n",
       "4  6f8848838f9afe5a7b38c23ad5018179f69e518ee721ba...   \n",
       "\n",
       "                    venueid  hour  time_spent  visits  day  link  \n",
       "0  440da2cbf964a52091301fe3     2         976      18    0     1  \n",
       "1  440da2cbf964a52091301fe3     2         100       2    0     1  \n",
       "2  440da2cbf964a52091301fe3     4          14       2    0     1  \n",
       "3  440da2cbf964a52091301fe3     5         148       3    0     1  \n",
       "4  440da2cbf964a52091301fe3     5         526       9    0     1  "
      ]
     },
     "execution_count": 8,
     "metadata": {},
     "output_type": "execute_result"
    }
   ],
   "source": [
    "\n",
    "features_df_pos = merged_df.copy()[[\"Source\",\"Target\",\"venueid\",\"hour\",\"time_spent\",\"visits\",\"day\"]]\n",
    "features_df_pos[\"link\"] = 1\n",
    "features_df_pos.head()"
   ]
  },
  {
   "cell_type": "code",
   "execution_count": 9,
   "metadata": {},
   "outputs": [],
   "source": [
    "features_df_pos = features_df_pos.merge(places_df[['level1cat','venueid']], on='venueid')"
   ]
  },
  {
   "cell_type": "code",
   "execution_count": 10,
   "metadata": {},
   "outputs": [
    {
     "data": {
      "text/plain": [
       "(2559, 17)"
      ]
     },
     "execution_count": 10,
     "metadata": {},
     "output_type": "execute_result"
    }
   ],
   "source": [
    "test_df = features_df_pos\n",
    "X_unique_valid = pd.merge(test_df[int(0.75*len(test_df)):],test_df[:int(0.75*len(test_df))], on=['Source','Target'], how='outer', indicator=True).query(\"_merge == 'both'\").reset_index(drop=True)\n",
    "X_unique_valid.shape"
   ]
  },
  {
   "cell_type": "code",
   "execution_count": 11,
   "metadata": {},
   "outputs": [],
   "source": [
    "features_df_neg = features_df_neg.merge(places_df[['level1cat','venueid']], on='venueid')"
   ]
  },
  {
   "cell_type": "code",
   "execution_count": 12,
   "metadata": {},
   "outputs": [],
   "source": [
    "\n",
    "size = len(node_set)\n",
    "node_encodings = np.arange(size)\n",
    "node_list = list(node_set)\n",
    "\n"
   ]
  },
  {
   "cell_type": "code",
   "execution_count": 13,
   "metadata": {},
   "outputs": [],
   "source": [
    "node_encoding_df = pd.DataFrame({'Node':node_list,'Source_Encoding':node_encodings})\n",
    "encoded_df = features_df_pos.merge(node_encoding_df, left_on='Source',right_on='Node', how='left')\n",
    "node_encoding_df = pd.DataFrame({'Node':node_list,'Target_Encoding':node_encodings})\n",
    "encoded_df = encoded_df.merge(node_encoding_df, left_on='Target',right_on='Node', how ='left')\n",
    "encoded_df_pos = encoded_df.drop(['Node_x','Node_y'],axis=1)\n",
    "encoded_df_pos = encoded_df_pos.sort_values(by='day')"
   ]
  },
  {
   "cell_type": "code",
   "execution_count": 14,
   "metadata": {},
   "outputs": [],
   "source": [
    "encoded_df_pos.loc[encoded_df_pos['Source_Encoding']>encoded_df_pos['Target_Encoding'],['Source_Encoding','Target_Encoding']] = encoded_df_pos.loc[encoded_df_pos['Source_Encoding']>encoded_df_pos['Target_Encoding'],['Target_Encoding','Source_Encoding']].values"
   ]
  },
  {
   "cell_type": "code",
   "execution_count": 15,
   "metadata": {},
   "outputs": [
    {
     "data": {
      "text/plain": [
       "(5668, 21)"
      ]
     },
     "execution_count": 15,
     "metadata": {},
     "output_type": "execute_result"
    }
   ],
   "source": [
    "test_df = encoded_df_pos\n",
    "X_unique_valid = pd.merge(test_df[int(0.75*len(test_df)):],test_df[:int(0.75*len(test_df))], on=['Source','Target'], how='outer', indicator=True).query(\"_merge == 'both'\").reset_index(drop=True)\n",
    "X_unique_valid.shape"
   ]
  },
  {
   "cell_type": "code",
   "execution_count": 16,
   "metadata": {},
   "outputs": [],
   "source": [
    "node_encoding_df = pd.DataFrame({'Node':node_list,'Source_Encoding':node_encodings})\n",
    "encoded_df = features_df_neg.merge(node_encoding_df, left_on='Source',right_on='Node',how = 'left')\n",
    "node_encoding_df = pd.DataFrame({'Node':node_list,'Target_Encoding':node_encodings})\n",
    "encoded_df = encoded_df.merge(node_encoding_df, left_on='Target',right_on='Node', how = 'left')\n",
    "encoded_df_neg = encoded_df.drop(['Node_x','Node_y'],axis=1)"
   ]
  },
  {
   "cell_type": "code",
   "execution_count": 17,
   "metadata": {},
   "outputs": [],
   "source": [
    "encoded_df_neg.loc[encoded_df_neg['Source_Encoding']>encoded_df_neg['Target_Encoding'],['Source_Encoding','Target_Encoding']] = encoded_df_neg.loc[encoded_df_neg['Source_Encoding']>encoded_df_neg['Target_Encoding'],['Target_Encoding','Source_Encoding']].values"
   ]
  },
  {
   "cell_type": "code",
   "execution_count": 18,
   "metadata": {},
   "outputs": [
    {
     "data": {
      "text/html": [
       "<div>\n",
       "<style scoped>\n",
       "    .dataframe tbody tr th:only-of-type {\n",
       "        vertical-align: middle;\n",
       "    }\n",
       "\n",
       "    .dataframe tbody tr th {\n",
       "        vertical-align: top;\n",
       "    }\n",
       "\n",
       "    .dataframe thead th {\n",
       "        text-align: right;\n",
       "    }\n",
       "</style>\n",
       "<table border=\"1\" class=\"dataframe\">\n",
       "  <thead>\n",
       "    <tr style=\"text-align: right;\">\n",
       "      <th></th>\n",
       "      <th>Source</th>\n",
       "      <th>Target</th>\n",
       "      <th>venueid</th>\n",
       "      <th>hour</th>\n",
       "      <th>time_spent</th>\n",
       "      <th>visits</th>\n",
       "      <th>day</th>\n",
       "      <th>link</th>\n",
       "      <th>level1cat</th>\n",
       "      <th>Source_Encoding</th>\n",
       "      <th>Target_Encoding</th>\n",
       "    </tr>\n",
       "  </thead>\n",
       "  <tbody>\n",
       "    <tr>\n",
       "      <th>0</th>\n",
       "      <td>2adee8895bc53ddebe8fb9c8a532f8bb5105a0d5bdcfd7...</td>\n",
       "      <td>d531979041494d0d0d2387cfc611f6e70d91bcb92cf966...</td>\n",
       "      <td>440da2cbf964a52091301fe3</td>\n",
       "      <td>2</td>\n",
       "      <td>976</td>\n",
       "      <td>18</td>\n",
       "      <td>0</td>\n",
       "      <td>1</td>\n",
       "      <td>Travel &amp; Transport</td>\n",
       "      <td>15641</td>\n",
       "      <td>28523</td>\n",
       "    </tr>\n",
       "    <tr>\n",
       "      <th>76140</th>\n",
       "      <td>7660f6bafba1bdb5d3738dc2a27163ef2816bfb2fe47a8...</td>\n",
       "      <td>2949d69f39410a5f237502ecb70378574996f003f0d5ca...</td>\n",
       "      <td>4b3f8ef6f964a5200ea925e3</td>\n",
       "      <td>19</td>\n",
       "      <td>30</td>\n",
       "      <td>3</td>\n",
       "      <td>0</td>\n",
       "      <td>1</td>\n",
       "      <td>Shops &amp; Services</td>\n",
       "      <td>8201</td>\n",
       "      <td>13682</td>\n",
       "    </tr>\n",
       "    <tr>\n",
       "      <th>76141</th>\n",
       "      <td>7660f6bafba1bdb5d3738dc2a27163ef2816bfb2fe47a8...</td>\n",
       "      <td>856bfe522acdcca62c1854f4ada359dd63d2940d5300c5...</td>\n",
       "      <td>4b3f8ef6f964a5200ea925e3</td>\n",
       "      <td>19</td>\n",
       "      <td>33</td>\n",
       "      <td>3</td>\n",
       "      <td>0</td>\n",
       "      <td>1</td>\n",
       "      <td>Shops &amp; Services</td>\n",
       "      <td>13682</td>\n",
       "      <td>24328</td>\n",
       "    </tr>\n",
       "    <tr>\n",
       "      <th>76142</th>\n",
       "      <td>f51920401d9837e0d4b97fb4ce1e791dd1abacc1250293...</td>\n",
       "      <td>c8b3f867c487fdc96eef4cc0bc7400e8f4d459730be699...</td>\n",
       "      <td>4b3f8ef6f964a5200ea925e3</td>\n",
       "      <td>18</td>\n",
       "      <td>12</td>\n",
       "      <td>2</td>\n",
       "      <td>0</td>\n",
       "      <td>1</td>\n",
       "      <td>Shops &amp; Services</td>\n",
       "      <td>7673</td>\n",
       "      <td>10680</td>\n",
       "    </tr>\n",
       "    <tr>\n",
       "      <th>76143</th>\n",
       "      <td>f51920401d9837e0d4b97fb4ce1e791dd1abacc1250293...</td>\n",
       "      <td>01b0ee2a311daa2ccbe6d6141c8ec46bb4c02e30cf245c...</td>\n",
       "      <td>4b3f8ef6f964a5200ea925e3</td>\n",
       "      <td>18</td>\n",
       "      <td>9</td>\n",
       "      <td>3</td>\n",
       "      <td>0</td>\n",
       "      <td>1</td>\n",
       "      <td>Shops &amp; Services</td>\n",
       "      <td>4117</td>\n",
       "      <td>7673</td>\n",
       "    </tr>\n",
       "  </tbody>\n",
       "</table>\n",
       "</div>"
      ],
      "text/plain": [
       "                                                  Source  \\\n",
       "0      2adee8895bc53ddebe8fb9c8a532f8bb5105a0d5bdcfd7...   \n",
       "76140  7660f6bafba1bdb5d3738dc2a27163ef2816bfb2fe47a8...   \n",
       "76141  7660f6bafba1bdb5d3738dc2a27163ef2816bfb2fe47a8...   \n",
       "76142  f51920401d9837e0d4b97fb4ce1e791dd1abacc1250293...   \n",
       "76143  f51920401d9837e0d4b97fb4ce1e791dd1abacc1250293...   \n",
       "\n",
       "                                                  Target  \\\n",
       "0      d531979041494d0d0d2387cfc611f6e70d91bcb92cf966...   \n",
       "76140  2949d69f39410a5f237502ecb70378574996f003f0d5ca...   \n",
       "76141  856bfe522acdcca62c1854f4ada359dd63d2940d5300c5...   \n",
       "76142  c8b3f867c487fdc96eef4cc0bc7400e8f4d459730be699...   \n",
       "76143  01b0ee2a311daa2ccbe6d6141c8ec46bb4c02e30cf245c...   \n",
       "\n",
       "                        venueid  hour  time_spent  visits  day  link  \\\n",
       "0      440da2cbf964a52091301fe3     2         976      18    0     1   \n",
       "76140  4b3f8ef6f964a5200ea925e3    19          30       3    0     1   \n",
       "76141  4b3f8ef6f964a5200ea925e3    19          33       3    0     1   \n",
       "76142  4b3f8ef6f964a5200ea925e3    18          12       2    0     1   \n",
       "76143  4b3f8ef6f964a5200ea925e3    18           9       3    0     1   \n",
       "\n",
       "                level1cat  Source_Encoding  Target_Encoding  \n",
       "0      Travel & Transport            15641            28523  \n",
       "76140    Shops & Services             8201            13682  \n",
       "76141    Shops & Services            13682            24328  \n",
       "76142    Shops & Services             7673            10680  \n",
       "76143    Shops & Services             4117             7673  "
      ]
     },
     "execution_count": 18,
     "metadata": {},
     "output_type": "execute_result"
    }
   ],
   "source": [
    "encoded_df_pos.head()"
   ]
  },
  {
   "cell_type": "code",
   "execution_count": 19,
   "metadata": {},
   "outputs": [
    {
     "data": {
      "text/html": [
       "<div>\n",
       "<style scoped>\n",
       "    .dataframe tbody tr th:only-of-type {\n",
       "        vertical-align: middle;\n",
       "    }\n",
       "\n",
       "    .dataframe tbody tr th {\n",
       "        vertical-align: top;\n",
       "    }\n",
       "\n",
       "    .dataframe thead th {\n",
       "        text-align: right;\n",
       "    }\n",
       "</style>\n",
       "<table border=\"1\" class=\"dataframe\">\n",
       "  <thead>\n",
       "    <tr style=\"text-align: right;\">\n",
       "      <th></th>\n",
       "      <th>Source</th>\n",
       "      <th>Target</th>\n",
       "      <th>venueid</th>\n",
       "      <th>hour</th>\n",
       "      <th>time_spent</th>\n",
       "      <th>visits</th>\n",
       "      <th>link</th>\n",
       "      <th>level1cat</th>\n",
       "      <th>Source_Encoding</th>\n",
       "      <th>Target_Encoding</th>\n",
       "    </tr>\n",
       "  </thead>\n",
       "  <tbody>\n",
       "    <tr>\n",
       "      <th>0</th>\n",
       "      <td>4ed23ffbfe4a8997f5172d7d2da88b7b75357e4c21af6f...</td>\n",
       "      <td>d8e4658adb2cd20d208eb6f089e4c482bf7ec7fa084ea9...</td>\n",
       "      <td>4b8ab9c1f964a520a67c32e3</td>\n",
       "      <td>3</td>\n",
       "      <td>2062</td>\n",
       "      <td>25</td>\n",
       "      <td>0</td>\n",
       "      <td>Shops &amp; Services</td>\n",
       "      <td>7446</td>\n",
       "      <td>10894</td>\n",
       "    </tr>\n",
       "    <tr>\n",
       "      <th>1</th>\n",
       "      <td>cf0b83f6cde68d475abb3d82ed316273ed0856e30ce1ef...</td>\n",
       "      <td>f9e5bde0ec17235ca5e921717b57bc0ede0344fe8760d3...</td>\n",
       "      <td>4b8ab9c1f964a520a67c32e3</td>\n",
       "      <td>23</td>\n",
       "      <td>3325</td>\n",
       "      <td>29</td>\n",
       "      <td>0</td>\n",
       "      <td>Shops &amp; Services</td>\n",
       "      <td>10218</td>\n",
       "      <td>28106</td>\n",
       "    </tr>\n",
       "    <tr>\n",
       "      <th>2</th>\n",
       "      <td>c02f1f8e75c424098241774603eea52222d5b7d4d60c5d...</td>\n",
       "      <td>33283de883dfbbc53475b9dab3dec4a6cb35de0e8ea14d...</td>\n",
       "      <td>4b8ab9c1f964a520a67c32e3</td>\n",
       "      <td>23</td>\n",
       "      <td>189</td>\n",
       "      <td>41</td>\n",
       "      <td>0</td>\n",
       "      <td>Shops &amp; Services</td>\n",
       "      <td>6947</td>\n",
       "      <td>20437</td>\n",
       "    </tr>\n",
       "    <tr>\n",
       "      <th>3</th>\n",
       "      <td>15cf3f776ad9e4dbccb533242c58b53fc61ef384f5ea5d...</td>\n",
       "      <td>113b3c657ecd221fb4cbbb5b4b02f0c1b128b33862fa29...</td>\n",
       "      <td>4b8ab9c1f964a520a67c32e3</td>\n",
       "      <td>14</td>\n",
       "      <td>2073</td>\n",
       "      <td>22</td>\n",
       "      <td>0</td>\n",
       "      <td>Shops &amp; Services</td>\n",
       "      <td>12930</td>\n",
       "      <td>14868</td>\n",
       "    </tr>\n",
       "    <tr>\n",
       "      <th>4</th>\n",
       "      <td>c58106b1ca52af9eed41cf74b5f76299bc5210076f5831...</td>\n",
       "      <td>21d4302b1c13e01be5e9a10c55a7cb39b8fe0332e68c04...</td>\n",
       "      <td>4b8ab9c1f964a520a67c32e3</td>\n",
       "      <td>22</td>\n",
       "      <td>337</td>\n",
       "      <td>57</td>\n",
       "      <td>0</td>\n",
       "      <td>Shops &amp; Services</td>\n",
       "      <td>18464</td>\n",
       "      <td>21428</td>\n",
       "    </tr>\n",
       "  </tbody>\n",
       "</table>\n",
       "</div>"
      ],
      "text/plain": [
       "                                              Source  \\\n",
       "0  4ed23ffbfe4a8997f5172d7d2da88b7b75357e4c21af6f...   \n",
       "1  cf0b83f6cde68d475abb3d82ed316273ed0856e30ce1ef...   \n",
       "2  c02f1f8e75c424098241774603eea52222d5b7d4d60c5d...   \n",
       "3  15cf3f776ad9e4dbccb533242c58b53fc61ef384f5ea5d...   \n",
       "4  c58106b1ca52af9eed41cf74b5f76299bc5210076f5831...   \n",
       "\n",
       "                                              Target  \\\n",
       "0  d8e4658adb2cd20d208eb6f089e4c482bf7ec7fa084ea9...   \n",
       "1  f9e5bde0ec17235ca5e921717b57bc0ede0344fe8760d3...   \n",
       "2  33283de883dfbbc53475b9dab3dec4a6cb35de0e8ea14d...   \n",
       "3  113b3c657ecd221fb4cbbb5b4b02f0c1b128b33862fa29...   \n",
       "4  21d4302b1c13e01be5e9a10c55a7cb39b8fe0332e68c04...   \n",
       "\n",
       "                    venueid  hour  time_spent  visits  link         level1cat  \\\n",
       "0  4b8ab9c1f964a520a67c32e3     3        2062      25     0  Shops & Services   \n",
       "1  4b8ab9c1f964a520a67c32e3    23        3325      29     0  Shops & Services   \n",
       "2  4b8ab9c1f964a520a67c32e3    23         189      41     0  Shops & Services   \n",
       "3  4b8ab9c1f964a520a67c32e3    14        2073      22     0  Shops & Services   \n",
       "4  4b8ab9c1f964a520a67c32e3    22         337      57     0  Shops & Services   \n",
       "\n",
       "   Source_Encoding  Target_Encoding  \n",
       "0             7446            10894  \n",
       "1            10218            28106  \n",
       "2             6947            20437  \n",
       "3            12930            14868  \n",
       "4            18464            21428  "
      ]
     },
     "execution_count": 19,
     "metadata": {},
     "output_type": "execute_result"
    }
   ],
   "source": [
    "encoded_df_neg.head()"
   ]
  },
  {
   "cell_type": "code",
   "execution_count": 20,
   "metadata": {},
   "outputs": [
    {
     "data": {
      "text/plain": [
       "Index(['venueid', 'hour', 'time_spent', 'visits', 'day', 'link', 'level1cat',\n",
       "       'Source_Encoding', 'Target_Encoding', 'cat_Arts & Entertainment',\n",
       "       'cat_Colleges & Universities', 'cat_Events', 'cat_Food',\n",
       "       'cat_Nightlife Spots', 'cat_Outdoors & Recreation',\n",
       "       'cat_Professional & Other Places', 'cat_Residences',\n",
       "       'cat_Shops & Services', 'cat_Travel & Transport'],\n",
       "      dtype='object')"
      ]
     },
     "execution_count": 20,
     "metadata": {},
     "output_type": "execute_result"
    }
   ],
   "source": [
    "# merged_df['level1cat'].value_counts()\n",
    "encoded_df_pos['level1cat'] = encoded_df_pos['level1cat'].astype('category')\n",
    "one_hot = pd.get_dummies(encoded_df_pos.level1cat,prefix=\"cat\")\n",
    "encoded_df_pos = encoded_df_pos.join(one_hot)\n",
    "encoded_df_pos = encoded_df_pos.drop([\"Source\",\"Target\"],axis=1)\n",
    "encoded_df_pos.columns"
   ]
  },
  {
   "cell_type": "code",
   "execution_count": 21,
   "metadata": {},
   "outputs": [
    {
     "data": {
      "text/plain": [
       "Index(['venueid', 'hour', 'time_spent', 'visits', 'link', 'level1cat',\n",
       "       'Source_Encoding', 'Target_Encoding', 'cat_Arts & Entertainment',\n",
       "       'cat_Colleges & Universities', 'cat_Events', 'cat_Food',\n",
       "       'cat_Nightlife Spots', 'cat_Outdoors & Recreation',\n",
       "       'cat_Professional & Other Places', 'cat_Residences',\n",
       "       'cat_Shops & Services', 'cat_Travel & Transport'],\n",
       "      dtype='object')"
      ]
     },
     "execution_count": 21,
     "metadata": {},
     "output_type": "execute_result"
    }
   ],
   "source": [
    "encoded_df_neg['level1cat'] = encoded_df_neg['level1cat'].astype('category')\n",
    "one_hot = pd.get_dummies(encoded_df_neg.level1cat,prefix=\"cat\")\n",
    "encoded_df_neg = encoded_df_neg.join(one_hot)\n",
    "encoded_df_neg = encoded_df_neg.drop([\"Source\",\"Target\"],axis=1)\n",
    "encoded_df_neg.columns"
   ]
  },
  {
   "cell_type": "code",
   "execution_count": 22,
   "metadata": {},
   "outputs": [],
   "source": [
    "import numpy as np\n",
    "import pandas as pd\n",
    "from sklearn.model_selection import train_test_split\n",
    "from sklearn.preprocessing import StandardScaler\n",
    "from sklearn.linear_model import LogisticRegressionCV\n",
    "from sklearn.metrics import roc_auc_score\n",
    "from sklearn.metrics import accuracy_score\n",
    "from sklearn.model_selection import RandomizedSearchCV, GridSearchCV\n",
    "from datetime import datetime\n",
    "from sklearn.ensemble import StackingClassifier, RandomForestClassifier\n",
    "from sklearn.model_selection import StratifiedKFold\n",
    "from xgboost import XGBClassifier\n",
    "from sklearn.metrics import classification_report\n",
    "from lightgbm import LGBMClassifier\n",
    "from scipy.stats import randint as sp_randint\n",
    "from sklearn.tree import DecisionTreeClassifier\n",
    "from scipy.stats import uniform as sp_uniform\n",
    "from sklearn.model_selection import cross_val_score\n",
    "import seaborn as sns\n",
    "import matplotlib.pyplot as plt\n",
    "from sklearn.metrics import confusion_matrix"
   ]
  },
  {
   "cell_type": "code",
   "execution_count": 23,
   "metadata": {},
   "outputs": [],
   "source": [
    "def results(model, X_train, X_valid,y_train, y_valid):\n",
    "    soft_probs = model.predict_proba(X_valid)\n",
    "    valid_auc = roc_auc_score(y_valid, soft_probs[:,1])\n",
    "    print(valid_auc)\n",
    "    train_preds = model.predict(X_train)\n",
    "    acc = accuracy_score(y_train, train_preds)\n",
    "    print(acc)\n",
    "    preds = model.predict(X_valid)\n",
    "    acc = accuracy_score(y_valid, preds)\n",
    "    \n",
    "    print(acc)\n",
    "    cf_matrix = confusion_matrix(y_valid, preds)\n",
    "    print(classification_report(y_valid,preds))\n",
    "    return cf_matrix"
   ]
  },
  {
   "cell_type": "code",
   "execution_count": 24,
   "metadata": {},
   "outputs": [],
   "source": [
    "# correlation = encoded_df.drop(['venueid','level1cat'])"
   ]
  },
  {
   "cell_type": "code",
   "execution_count": 25,
   "metadata": {},
   "outputs": [],
   "source": [
    "encoded_df = encoded_df_pos.append(encoded_df_neg)\n",
    "X = encoded_df.drop(['venueid','link','level1cat','day'],axis=1)\n",
    "y = encoded_df['link']\n",
    "X_train, X_valid, y_train, y_valid = train_test_split(X,y,train_size = 0.75, test_size = 0.25,random_state = 42, shuffle = True, stratify=y)"
   ]
  },
  {
   "cell_type": "code",
   "execution_count": 26,
   "metadata": {},
   "outputs": [
    {
     "data": {
      "text/plain": [
       "Index(['hour', 'time_spent', 'visits', 'Source_Encoding', 'Target_Encoding',\n",
       "       'cat_Arts & Entertainment', 'cat_Colleges & Universities', 'cat_Events',\n",
       "       'cat_Food', 'cat_Nightlife Spots', 'cat_Outdoors & Recreation',\n",
       "       'cat_Professional & Other Places', 'cat_Residences',\n",
       "       'cat_Shops & Services', 'cat_Travel & Transport'],\n",
       "      dtype='object')"
      ]
     },
     "execution_count": 26,
     "metadata": {},
     "output_type": "execute_result"
    }
   ],
   "source": [
    "from catboost import CatBoostClassifier, Pool\n",
    "X_valid.columns"
   ]
  },
  {
   "cell_type": "markdown",
   "metadata": {},
   "source": [
    "# Model trained on entire timeline and predict links at random days across timeline"
   ]
  },
  {
   "cell_type": "code",
   "execution_count": 27,
   "metadata": {},
   "outputs": [
    {
     "name": "stdout",
     "output_type": "stream",
     "text": [
      "Learning rate set to 0.119036\n",
      "0:\tlearn: 0.9928650\ttotal: 1.2s\tremaining: 20m 1s\n",
      "100:\tlearn: 0.9996462\ttotal: 43.7s\tremaining: 6m 28s\n",
      "200:\tlearn: 0.9997343\ttotal: 1m 24s\tremaining: 5m 35s\n",
      "300:\tlearn: 0.9997602\ttotal: 2m 7s\tremaining: 4m 55s\n",
      "400:\tlearn: 0.9997760\ttotal: 2m 37s\tremaining: 3m 55s\n",
      "500:\tlearn: 0.9997760\ttotal: 3m 2s\tremaining: 3m 1s\n",
      "600:\tlearn: 0.9997797\ttotal: 3m 39s\tremaining: 2m 25s\n",
      "700:\tlearn: 0.9997876\ttotal: 4m 15s\tremaining: 1m 48s\n",
      "800:\tlearn: 0.9997921\ttotal: 4m 44s\tremaining: 1m 10s\n",
      "900:\tlearn: 0.9997939\ttotal: 5m 25s\tremaining: 35.8s\n",
      "999:\tlearn: 0.9997965\ttotal: 6m 16s\tremaining: 0us\n",
      "0.9998667028429142\n",
      "0.9987703708029576\n",
      "0.9960970197192969\n",
      "              precision    recall  f1-score   support\n",
      "\n",
      "           0       1.00      0.99      1.00     45000\n",
      "           1       1.00      1.00      1.00     57742\n",
      "\n",
      "    accuracy                           1.00    102742\n",
      "   macro avg       1.00      1.00      1.00    102742\n",
      "weighted avg       1.00      1.00      1.00    102742\n",
      "\n"
     ]
    }
   ],
   "source": [
    "cat_indices = [0,1,2,3,4,5,6,7,8,9,10,11,12,13,14]\n",
    "model_cat = CatBoostClassifier(cat_features=cat_indices,\n",
    "                                verbose=100,\n",
    "                                eval_metric='AUC:hints=skip_train~false'\n",
    "                                )\n",
    "\n",
    "model_cat.fit(X_train,y_train)\n",
    "cf_matrix = results(model_cat,X_train, X_valid, y_train, y_valid)"
   ]
  },
  {
   "cell_type": "code",
   "execution_count": 28,
   "metadata": {},
   "outputs": [
    {
     "data": {
      "image/png": "[encoded data removed]",
      "text/plain": [
       "<Figure size 640x480 with 2 Axes>"
      ]
     },
     "metadata": {},
     "output_type": "display_data"
    }
   ],
   "source": [
    "# cf_matrix = np.asarray(results(model_cat,X_train, X_valid, y_train, y_valid))\n",
    "def plot_confusion(cf_matrix):\n",
    "    group_names = ['True Neg','False Pos','False Neg','True Pos']\n",
    "    group_counts = [\"{0:0.0f}\".format(value) for value in\n",
    "                    cf_matrix.flatten()]\n",
    "    group_percentages = [\"{0:.2%}\".format(value) for value in\n",
    "                        cf_matrix.flatten()/np.sum(cf_matrix)]\n",
    "    labels = [f\"{v1}\\n{v2}\\n{v3}\" for v1, v2, v3 in\n",
    "            zip(group_names,group_counts,group_percentages)]\n",
    "    labels = np.asarray(labels).reshape(2,2)\n",
    "    plt.clf()\n",
    "    sns.heatmap(cf_matrix, annot=labels, fmt='', cmap='Blues')\n",
    "    plt.show()\n",
    "\n",
    "plot_confusion(cf_matrix)\n"
   ]
  },
  {
   "cell_type": "markdown",
   "metadata": {},
   "source": [
    "# Model trained on first temporal sequence of data, predict on remaining data"
   ]
  },
  {
   "cell_type": "code",
   "execution_count": 29,
   "metadata": {},
   "outputs": [],
   "source": [
    "# X = encoded_df.drop(['venueid','link','level1cat','day'],axis=1)\n",
    "\n",
    "X_train_pos = encoded_df_pos[:int(0.75*len(encoded_df_pos))]\n",
    "X_valid_pos = encoded_df_pos[int(0.75*len(encoded_df_pos)):]\n",
    "X_train_neg = encoded_df_neg[:int(0.75*len(encoded_df_neg))]\n",
    "X_valid_neg = encoded_df_neg[int(0.75*len(encoded_df_neg)):]\n",
    "X_train_total = X_train_pos.append(X_train_neg)\n",
    "X_valid_total = X_valid_pos.append(X_valid_neg)\n",
    "\n",
    "X_train_total = X_train_total.sample(frac=1).reset_index(drop=True)\n",
    "X_valid_total = X_valid_total.sample(frac=1).reset_index(drop=True)\n",
    "\n",
    "y_train_total = X_train_total['link']\n",
    "y_valid_total = X_valid_total['link']\n",
    "X_train_total = X_train_total.drop(['venueid','link','level1cat','day'],axis=1)\n",
    "X_valid_total = X_valid_total.drop(['venueid','link','level1cat','day'],axis=1)\n"
   ]
  },
  {
   "cell_type": "code",
   "execution_count": 30,
   "metadata": {},
   "outputs": [
    {
     "data": {
      "text/plain": [
       "7"
      ]
     },
     "execution_count": 30,
     "metadata": {},
     "output_type": "execute_result"
    }
   ],
   "source": [
    "X_valid_pos['day'].nunique()"
   ]
  },
  {
   "cell_type": "code",
   "execution_count": 31,
   "metadata": {},
   "outputs": [
    {
     "name": "stdout",
     "output_type": "stream",
     "text": [
      "Learning rate set to 0.119036\n",
      "0:\tlearn: 0.9935233\ttotal: 1.96s\tremaining: 32m 35s\n",
      "100:\tlearn: 0.9997019\ttotal: 1m 15s\tremaining: 11m 7s\n",
      "200:\tlearn: 0.9997727\ttotal: 1m 55s\tremaining: 7m 37s\n",
      "300:\tlearn: 0.9997877\ttotal: 2m 31s\tremaining: 5m 52s\n",
      "400:\tlearn: 0.9997921\ttotal: 3m 1s\tremaining: 4m 31s\n",
      "500:\tlearn: 0.9997969\ttotal: 3m 33s\tremaining: 3m 32s\n",
      "600:\tlearn: 0.9997993\ttotal: 4m 1s\tremaining: 2m 40s\n",
      "700:\tlearn: 0.9997996\ttotal: 4m 27s\tremaining: 1m 53s\n",
      "800:\tlearn: 0.9997997\ttotal: 4m 50s\tremaining: 1m 12s\n",
      "900:\tlearn: 0.9998024\ttotal: 5m 14s\tremaining: 34.6s\n",
      "999:\tlearn: 0.9998024\ttotal: 5m 37s\tremaining: 0us\n",
      "0.9990912869122802\n",
      "0.9990818336074855\n",
      "0.9901890171497537\n",
      "              precision    recall  f1-score   support\n",
      "\n",
      "           0       0.98      0.99      0.99     45000\n",
      "           1       1.00      0.99      0.99     57742\n",
      "\n",
      "    accuracy                           0.99    102742\n",
      "   macro avg       0.99      0.99      0.99    102742\n",
      "weighted avg       0.99      0.99      0.99    102742\n",
      "\n"
     ]
    },
    {
     "data": {
      "image/png": "[encoded data removed]",
      "text/plain": [
       "<Figure size 640x480 with 2 Axes>"
      ]
     },
     "metadata": {},
     "output_type": "display_data"
    }
   ],
   "source": [
    "model_cat.fit(X_train_total,y_train_total)\n",
    "cf_matrix = results(model_cat,X_train_total, X_valid_total, y_train_total, y_valid_total)\n",
    "plot_confusion(cf_matrix)"
   ]
  },
  {
   "cell_type": "markdown",
   "metadata": {},
   "source": [
    "# Logreg on entire dataset"
   ]
  },
  {
   "cell_type": "code",
   "execution_count": 32,
   "metadata": {},
   "outputs": [
    {
     "name": "stdout",
     "output_type": "stream",
     "text": [
      "0.9820400844369013\n",
      "0.9434992505499211\n"
     ]
    }
   ],
   "source": [
    "#Log reg\n",
    "model1 = LogisticRegressionCV(Cs = 100,cv=5,penalty = 'l2',\n",
    "                              solver='saga', \n",
    "                              tol=0.01, n_jobs=-1, \n",
    "                              random_state = 42).fit(X_train, y_train)\n",
    "soft_probs = model1.predict_proba(X_valid)\n",
    "valid_auc = roc_auc_score(y_valid, soft_probs[:,1])\n",
    "print(valid_auc)\n",
    "score = model1.score(X_valid, y_valid)\n",
    "print(score)\n"
   ]
  },
  {
   "cell_type": "code",
   "execution_count": 33,
   "metadata": {},
   "outputs": [
    {
     "name": "stdout",
     "output_type": "stream",
     "text": [
      "0.9820400844369013\n",
      "0.943119105323094\n",
      "0.9434992505499211\n",
      "              precision    recall  f1-score   support\n",
      "\n",
      "           0       0.96      0.91      0.93     45000\n",
      "           1       0.93      0.97      0.95     57742\n",
      "\n",
      "    accuracy                           0.94    102742\n",
      "   macro avg       0.95      0.94      0.94    102742\n",
      "weighted avg       0.94      0.94      0.94    102742\n",
      "\n"
     ]
    },
    {
     "data": {
      "image/png": "[encoded data removed]",
      "text/plain": [
       "<Figure size 640x480 with 2 Axes>"
      ]
     },
     "metadata": {},
     "output_type": "display_data"
    }
   ],
   "source": [
    "cf_matrix = results(model1,X_train, X_valid, y_train, y_valid)\n",
    "plot_confusion(cf_matrix)"
   ]
  },
  {
   "cell_type": "markdown",
   "metadata": {},
   "source": [
    "# Logreg on timeline data"
   ]
  },
  {
   "cell_type": "code",
   "execution_count": 34,
   "metadata": {},
   "outputs": [
    {
     "name": "stdout",
     "output_type": "stream",
     "text": [
      "0.98368078887311\n",
      "0.9467501119308559\n"
     ]
    }
   ],
   "source": [
    "model1 = LogisticRegressionCV(Cs = 100,cv=5,penalty = 'l2',\n",
    "                              solver='saga', \n",
    "                              tol=0.01, n_jobs=-1, \n",
    "                              random_state = 42).fit(X_train_total, y_train_total)\n",
    "soft_probs = model1.predict_proba(X_valid_total)\n",
    "valid_auc = roc_auc_score(y_valid_total, soft_probs[:,1])\n",
    "print(valid_auc)\n",
    "score = model1.score(X_valid_total, y_valid_total)\n",
    "print(score)"
   ]
  },
  {
   "cell_type": "code",
   "execution_count": 35,
   "metadata": {},
   "outputs": [
    {
     "name": "stdout",
     "output_type": "stream",
     "text": [
      "0.98368078887311\n",
      "0.9457016510773044\n",
      "0.9467501119308559\n",
      "              precision    recall  f1-score   support\n",
      "\n",
      "           0       0.96      0.92      0.94     45000\n",
      "           1       0.94      0.97      0.95     57742\n",
      "\n",
      "    accuracy                           0.95    102742\n",
      "   macro avg       0.95      0.94      0.95    102742\n",
      "weighted avg       0.95      0.95      0.95    102742\n",
      "\n"
     ]
    },
    {
     "data": {
      "image/png": "[encoded data removed]",
      "text/plain": [
       "<Figure size 640x480 with 2 Axes>"
      ]
     },
     "metadata": {},
     "output_type": "display_data"
    }
   ],
   "source": [
    "cf_matrix = results(model1,X_train_total, X_valid_total, y_train_total, y_valid_total)\n",
    "plot_confusion(cf_matrix)"
   ]
  },
  {
   "cell_type": "markdown",
   "metadata": {},
   "source": [
    "# Extending model to predict Unique Colocations between pairs that never met during training."
   ]
  },
  {
   "cell_type": "code",
   "execution_count": 36,
   "metadata": {},
   "outputs": [
    {
     "data": {
      "text/plain": [
       "(98933, 29)"
      ]
     },
     "execution_count": 36,
     "metadata": {},
     "output_type": "execute_result"
    }
   ],
   "source": [
    "# X_train_pos = encoded_df_pos[:int(0.75*len(encoded_df_pos))]\n",
    "# X_valid_pos = encoded_df_pos[int(0.75*len(encoded_df_pos)):]\n",
    "# X_train_neg = encoded_df_neg[:int(0.75*len(encoded_df_neg))]\n",
    "# X_valid_neg = encoded_df_neg[int(0.75*len(encoded_df_neg)):]\n",
    "# X_train_total = X_train_pos.append(X_train_neg)\n",
    "# X_valid_total = X_valid_pos.append(X_valid_neg)\n",
    "\n",
    "# X_train_total = X_train_total.sample(frac=1).reset_index(drop=True)\n",
    "# X_valid_total = X_valid_total.sample(frac=1).reset_index(drop=True)\n",
    "\n",
    "# y_train_total = X_train_total['link']\n",
    "# y_valid_total = X_valid_total['link']\n",
    "X_unique_valid = pd.merge(X_valid_total,X_train_total, on=['Source_Encoding','Target_Encoding'], how='outer', indicator=True).query(\"_merge == 'left_only'\").reset_index(drop=True)\n",
    "X_unique_valid.shape"
   ]
  },
  {
   "cell_type": "code",
   "execution_count": 37,
   "metadata": {},
   "outputs": [
    {
     "name": "stdout",
     "output_type": "stream",
     "text": [
      "(102742, 15)\n",
      "(98933, 29)\n"
     ]
    }
   ],
   "source": [
    "print(X_valid_total.shape)\n",
    "print(X_unique_valid.shape)"
   ]
  },
  {
   "cell_type": "code",
   "execution_count": 38,
   "metadata": {},
   "outputs": [
    {
     "name": "stdout",
     "output_type": "stream",
     "text": [
      "0.9990912869122802\n",
      "0.9990818336074855\n",
      "0.9901890171497537\n",
      "              precision    recall  f1-score   support\n",
      "\n",
      "           0       0.98      0.99      0.99     45000\n",
      "           1       1.00      0.99      0.99     57742\n",
      "\n",
      "    accuracy                           0.99    102742\n",
      "   macro avg       0.99      0.99      0.99    102742\n",
      "weighted avg       0.99      0.99      0.99    102742\n",
      "\n"
     ]
    },
    {
     "data": {
      "image/png": "[encoded data removed]",
      "text/plain": [
       "<Figure size 640x480 with 2 Axes>"
      ]
     },
     "metadata": {},
     "output_type": "display_data"
    }
   ],
   "source": [
    "cf_matrix = results(model_cat,X_train_total, X_valid_total, y_train_total, y_valid_total)\n",
    "plot_confusion(cf_matrix)"
   ]
  },
  {
   "cell_type": "markdown",
   "metadata": {},
   "source": [
    "# Feature Importance"
   ]
  },
  {
   "cell_type": "code",
   "execution_count": 39,
   "metadata": {},
   "outputs": [
    {
     "data": {
      "text/html": [
       "<div>\n",
       "<style scoped>\n",
       "    .dataframe tbody tr th:only-of-type {\n",
       "        vertical-align: middle;\n",
       "    }\n",
       "\n",
       "    .dataframe tbody tr th {\n",
       "        vertical-align: top;\n",
       "    }\n",
       "\n",
       "    .dataframe thead th {\n",
       "        text-align: right;\n",
       "    }\n",
       "</style>\n",
       "<table border=\"1\" class=\"dataframe\">\n",
       "  <thead>\n",
       "    <tr style=\"text-align: right;\">\n",
       "      <th></th>\n",
       "      <th>feature_importance</th>\n",
       "      <th>feature_names</th>\n",
       "    </tr>\n",
       "  </thead>\n",
       "  <tbody>\n",
       "    <tr>\n",
       "      <th>4</th>\n",
       "      <td>1.982001e+01</td>\n",
       "      <td>Target_Encoding</td>\n",
       "    </tr>\n",
       "    <tr>\n",
       "      <th>3</th>\n",
       "      <td>1.890086e+01</td>\n",
       "      <td>Source_Encoding</td>\n",
       "    </tr>\n",
       "    <tr>\n",
       "      <th>1</th>\n",
       "      <td>1.874905e+01</td>\n",
       "      <td>time_spent</td>\n",
       "    </tr>\n",
       "    <tr>\n",
       "      <th>2</th>\n",
       "      <td>1.648621e+01</td>\n",
       "      <td>visits</td>\n",
       "    </tr>\n",
       "    <tr>\n",
       "      <th>0</th>\n",
       "      <td>1.073281e+01</td>\n",
       "      <td>hour</td>\n",
       "    </tr>\n",
       "    <tr>\n",
       "      <th>14</th>\n",
       "      <td>3.849734e+00</td>\n",
       "      <td>cat_Travel &amp; Transport</td>\n",
       "    </tr>\n",
       "    <tr>\n",
       "      <th>10</th>\n",
       "      <td>3.655042e+00</td>\n",
       "      <td>cat_Outdoors &amp; Recreation</td>\n",
       "    </tr>\n",
       "    <tr>\n",
       "      <th>8</th>\n",
       "      <td>3.020852e+00</td>\n",
       "      <td>cat_Food</td>\n",
       "    </tr>\n",
       "    <tr>\n",
       "      <th>13</th>\n",
       "      <td>1.790718e+00</td>\n",
       "      <td>cat_Shops &amp; Services</td>\n",
       "    </tr>\n",
       "    <tr>\n",
       "      <th>11</th>\n",
       "      <td>1.637033e+00</td>\n",
       "      <td>cat_Professional &amp; Other Places</td>\n",
       "    </tr>\n",
       "    <tr>\n",
       "      <th>12</th>\n",
       "      <td>6.196876e-01</td>\n",
       "      <td>cat_Residences</td>\n",
       "    </tr>\n",
       "    <tr>\n",
       "      <th>6</th>\n",
       "      <td>4.106517e-01</td>\n",
       "      <td>cat_Colleges &amp; Universities</td>\n",
       "    </tr>\n",
       "    <tr>\n",
       "      <th>5</th>\n",
       "      <td>2.523467e-01</td>\n",
       "      <td>cat_Arts &amp; Entertainment</td>\n",
       "    </tr>\n",
       "    <tr>\n",
       "      <th>9</th>\n",
       "      <td>7.499625e-02</td>\n",
       "      <td>cat_Nightlife Spots</td>\n",
       "    </tr>\n",
       "    <tr>\n",
       "      <th>7</th>\n",
       "      <td>2.122732e-10</td>\n",
       "      <td>cat_Events</td>\n",
       "    </tr>\n",
       "  </tbody>\n",
       "</table>\n",
       "</div>"
      ],
      "text/plain": [
       "    feature_importance                    feature_names\n",
       "4         1.982001e+01                  Target_Encoding\n",
       "3         1.890086e+01                  Source_Encoding\n",
       "1         1.874905e+01                       time_spent\n",
       "2         1.648621e+01                           visits\n",
       "0         1.073281e+01                             hour\n",
       "14        3.849734e+00           cat_Travel & Transport\n",
       "10        3.655042e+00        cat_Outdoors & Recreation\n",
       "8         3.020852e+00                         cat_Food\n",
       "13        1.790718e+00             cat_Shops & Services\n",
       "11        1.637033e+00  cat_Professional & Other Places\n",
       "12        6.196876e-01                   cat_Residences\n",
       "6         4.106517e-01      cat_Colleges & Universities\n",
       "5         2.523467e-01         cat_Arts & Entertainment\n",
       "9         7.499625e-02              cat_Nightlife Spots\n",
       "7         2.122732e-10                       cat_Events"
      ]
     },
     "execution_count": 39,
     "metadata": {},
     "output_type": "execute_result"
    }
   ],
   "source": [
    "pd.DataFrame({'feature_importance': model_cat.get_feature_importance(), \n",
    "              'feature_names': X_train.columns}).sort_values(by=['feature_importance'], \n",
    "                                                           ascending=False)"
   ]
  },
  {
   "cell_type": "code",
   "execution_count": null,
   "metadata": {},
   "outputs": [],
   "source": []
  }
 ],
 "metadata": {
  "interpreter": {
   "hash": "73ecdd61d20018d2e758117bd4629727afe7a01cd59affc255f8f7577a700e03"
  },
  "kernelspec": {
   "display_name": "Python 3.8.5 64-bit ('dslab': conda)",
   "language": "python",
   "name": "python3"
  },
  "language_info": {
   "codemirror_mode": {
    "name": "ipython",
    "version": 3
   },
   "file_extension": ".py",
   "mimetype": "text/x-python",
   "name": "python",
   "nbconvert_exporter": "python",
   "pygments_lexer": "ipython3",
   "version": "3.8.12"
  },
  "orig_nbformat": 4
 },
 "nbformat": 4,
 "nbformat_minor": 2
}
