{
 "cells": [
  {
   "cell_type": "code",
   "execution_count": 7,
   "metadata": {},
   "outputs": [],
   "source": [
    "import networkx as nx\n",
    "import dgl\n",
    "import numpy as np\n",
    "import pandas as pd\n",
    "import torch"
   ]
  },
  {
   "cell_type": "code",
   "execution_count": 11,
   "metadata": {},
   "outputs": [],
   "source": [
    "nx_graphs = []\n",
    "for i in range(31):\n",
    "\twith open(f'datasets\\ATX_Networks\\sim_day_{i+1}.gexf') as graph_file:\n",
    "\t\tday_graph = nx.read_gexf(graph_file)\n",
    "\t\tday_graph = day_graph.to_directed()\n",
    "\t\tnx_graphs.append(day_graph)"
   ]
  },
  {
   "cell_type": "code",
   "execution_count": 13,
   "metadata": {},
   "outputs": [],
   "source": [
    "with open(f'datasets\\ATX_Networks\\sim_day_1.gexf') as graph_file:\n",
    "\tday_graph = nx.read_gexf(graph_file)\n",
    "\tday_graph = day_graph.to_directed()"
   ]
  },
  {
   "cell_type": "code",
   "execution_count": 27,
   "metadata": {},
   "outputs": [
    {
     "data": {
      "text/plain": [
       "Graph(num_nodes=3938, num_edges=13706,\n",
       "      ndata_schemes={'home_zip': Scheme(shape=(), dtype=torch.float32)}\n",
       "      edata_schemes={'hour': Scheme(shape=(), dtype=torch.int64), 'visits': Scheme(shape=(), dtype=torch.int64), 'time_spent': Scheme(shape=(), dtype=torch.int64)})"
      ]
     },
     "execution_count": 27,
     "metadata": {},
     "output_type": "execute_result"
    }
   ],
   "source": [
    "dgl.from_networkx(day_graph, edge_attrs = [\"hour\", \"visits\", \"time_spent\"])"
   ]
  },
  {
   "cell_type": "code",
   "execution_count": 29,
   "metadata": {},
   "outputs": [],
   "source": [
    "dgl_graphs = []\n",
    "for nx_graph in nx_graphs:\n",
    "\tdgl_graphs.append(dgl.from_networkx(day_graph, node_attrs = [\"home_zip\"], edge_attrs = [\"hour\", \"visits\", \"time_spent\"]))"
   ]
  },
  {
   "cell_type": "code",
   "execution_count": 34,
   "metadata": {},
   "outputs": [
    {
     "name": "stdout",
     "output_type": "stream",
     "text": [
      "Graph(num_nodes=3938, num_edges=13706,\n",
      "      ndata_schemes={'home_zip': Scheme(shape=(), dtype=torch.float32)}\n",
      "      edata_schemes={'hour': Scheme(shape=(), dtype=torch.int64), 'visits': Scheme(shape=(), dtype=torch.int64), 'time_spent': Scheme(shape=(), dtype=torch.int64)})\n",
      "Node features\n",
      "{'home_zip': tensor([78759.,    nan,    nan,  ..., 76574.,    nan,    nan])}\n",
      "Edge features\n",
      "{'hour': tensor([ 2,  2,  4,  ..., 23, 23, 23]), 'visits': tensor([18,  2,  2,  ...,  2,  2,  3]), 'time_spent': tensor([976, 100,  14,  ...,  32,  36, 180])}\n"
     ]
    }
   ],
   "source": [
    "print(dgl_graphs[0])\n",
    "print('Node features')\n",
    "print(dgl_graphs[0].ndata)\n",
    "print('Edge features')\n",
    "print(dgl_graphs[0].edata)"
   ]
  },
  {
   "cell_type": "code",
   "execution_count": null,
   "metadata": {},
   "outputs": [],
   "source": []
  }
 ],
 "metadata": {
  "interpreter": {
   "hash": "9be1eec2b1da80ac1fa49f4c701ef6438149f84fa437577912d3627bf1fcefe5"
  },
  "kernelspec": {
   "display_name": "Python 3.8.12 64-bit ('base': conda)",
   "language": "python",
   "name": "python3"
  },
  "language_info": {
   "codemirror_mode": {
    "name": "ipython",
    "version": 3
   },
   "file_extension": ".py",
   "mimetype": "text/x-python",
   "name": "python",
   "nbconvert_exporter": "python",
   "pygments_lexer": "ipython3",
   "version": "3.8.12"
  },
  "orig_nbformat": 4
 },
 "nbformat": 4,
 "nbformat_minor": 2
}
