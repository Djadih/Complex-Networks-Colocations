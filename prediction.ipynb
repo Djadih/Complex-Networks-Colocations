{
 "cells": [
  {
   "cell_type": "code",
   "execution_count": 1,
   "metadata": {},
   "outputs": [],
   "source": [
    "import networkx as nx\n",
    "import pandas as pd"
   ]
  },
  {
   "cell_type": "markdown",
   "metadata": {},
   "source": [
    "### Creating graphs"
   ]
  },
  {
   "cell_type": "code",
   "execution_count": 2,
   "metadata": {},
   "outputs": [],
   "source": [
    "nx_graphs = []\n",
    "agg_graph = nx.MultiGraph()\n",
    "weighted_graph = nx.Graph()\n",
    "\n",
    "total_edges = 0\n",
    "for i in range(31):\n",
    "\t# with open(f'..\\ATX_Networks\\sim_day_{i+1}.gexf') as graph_file:\n",
    "\tdummy_multigraph = nx.MultiGraph()\n",
    "\toriginal_graph = nx.read_gexf(f'datasets\\ATX_Networks\\sim_day_{i+1}.gexf')\n",
    "\tdummy_multigraph.update(original_graph)\n",
    "\tagg_graph.update(dummy_multigraph)\n",
    "\tnx_graphs.append(original_graph)\n",
    "\n",
    "\ttotal_edges += nx.number_of_edges(dummy_multigraph)\n",
    "\t\n",
    "\tweighted_graph.update(original_graph)\n",
    "\n",
    "\t# print(f\"total edges: {total_edges}, agg edges: {nx.number_of_edges(agg_graph)}.\")"
   ]
  },
  {
   "cell_type": "markdown",
   "metadata": {},
   "source": [
    "### Characterizing unique co-locations vs multiple co-locations (fleeting vs meaningful)\n",
    "\n",
    "Mostly fleeting interactions."
   ]
  },
  {
   "cell_type": "code",
   "execution_count": 3,
   "metadata": {},
   "outputs": [
    {
     "name": "stdout",
     "output_type": "stream",
     "text": [
      "There are 230965 edges across 30 days.\n",
      "The aggregated graph has 230965 edges.\n"
     ]
    }
   ],
   "source": [
    "total_edges = 0\n",
    "for graph in nx_graphs:\n",
    "\ttotal_edges += nx.number_of_edges(graph)\n",
    "\n",
    "print(f\"There are {total_edges} edges across 30 days.\")\n",
    "print(f\"The aggregated graph has {nx.number_of_edges(agg_graph)} edges.\")"
   ]
  },
  {
   "cell_type": "code",
   "execution_count": 9,
   "metadata": {},
   "outputs": [
    {
     "name": "stdout",
     "output_type": "stream",
     "text": [
      "Graph with 28570 nodes and 214731 edges\n"
     ]
    }
   ],
   "source": [
    "collapsed_graph = agg_graph.to_undirected()\n",
    "collapsed_graph = nx.Graph(agg_graph)\n",
    "# print(nx.get_edge_attributes(collapsed_graph, \"weight\"))\n",
    "print(collapsed_graph)"
   ]
  },
  {
   "cell_type": "markdown",
   "metadata": {},
   "source": [
    "### Calculating coefficients"
   ]
  },
  {
   "cell_type": "code",
   "execution_count": null,
   "metadata": {},
   "outputs": [],
   "source": [
    "resource_allocation_index = nx.resource_allocation_index(collapsed_graph)\n",
    "\n",
    "resource_allocation_df = pd.DataFrame(resource_allocation_index)"
   ]
  },
  {
   "cell_type": "code",
   "execution_count": null,
   "metadata": {},
   "outputs": [],
   "source": [
    "jaccard_coefficients = nx.jaccard_coefficient(collapsed_graph)\n",
    "\n",
    "jaccard_coefficients_df = pd.DataFrame(jaccard_coefficients)"
   ]
  },
  {
   "cell_type": "code",
   "execution_count": null,
   "metadata": {},
   "outputs": [],
   "source": [
    "adamic_index = nx.adamic_adar_index(collapsed_graph)\n",
    "\n",
    "adamic_index_df = pd.DataFrame(adamic_index)"
   ]
  },
  {
   "cell_type": "code",
   "execution_count": null,
   "metadata": {},
   "outputs": [],
   "source": [
    "preferential_attachment = nx.preferential_attachment(collapsed_graph)\n",
    "\n",
    "preferential_attachment_df = pd.DataFrame(preferential_attachment)"
   ]
  },
  {
   "cell_type": "code",
   "execution_count": null,
   "metadata": {},
   "outputs": [],
   "source": [
    "cn_soundarajan_hopcroft = nx.cn_soundarajan_hopcroft(collapsed_graph)\n",
    "\n",
    "cn_soundarajan_hopcroft_df = pd.DataFrame(cn_soundarajan_hopcroft)"
   ]
  },
  {
   "cell_type": "code",
   "execution_count": null,
   "metadata": {},
   "outputs": [],
   "source": [
    "ra_index_soundarajan_hopcroft = nx.ra_index_soundarajan_hopcroft(collapsed_graph)\n",
    "\n",
    "ra_index_soundarajan_hopcroft_df = pd.DataFrame(ra_index_soundarajan_hopcroft)"
   ]
  },
  {
   "cell_type": "code",
   "execution_count": null,
   "metadata": {},
   "outputs": [],
   "source": [
    "within_inter_cluster = nx.within_inter_cluster(collapsed_graph)\n",
    "\n",
    "within_inter_cluster_df = pd.DataFrame(within_inter_cluster)"
   ]
  },
  {
   "cell_type": "code",
   "execution_count": null,
   "metadata": {},
   "outputs": [],
   "source": [
    "# This one for some reason does not return the iterator, and actually goes ahead and calculates all the values.\n",
    "common_neighbor_centrality = nx.common_neighbor_centrality(collapsed_graph)"
   ]
  },
  {
   "cell_type": "markdown",
   "metadata": {},
   "source": []
  },
  {
   "cell_type": "code",
   "execution_count": null,
   "metadata": {},
   "outputs": [],
   "source": []
  }
 ],
 "metadata": {
  "interpreter": {
   "hash": "9be1eec2b1da80ac1fa49f4c701ef6438149f84fa437577912d3627bf1fcefe5"
  },
  "kernelspec": {
   "display_name": "Python 3.8.12 64-bit ('base': conda)",
   "language": "python",
   "name": "python3"
  },
  "language_info": {
   "codemirror_mode": {
    "name": "ipython",
    "version": 3
   },
   "file_extension": ".py",
   "mimetype": "text/x-python",
   "name": "python",
   "nbconvert_exporter": "python",
   "pygments_lexer": "ipython3",
   "version": "3.8.12"
  },
  "orig_nbformat": 4
 },
 "nbformat": 4,
 "nbformat_minor": 2
}
