{
 "cells": [
  {
   "cell_type": "code",
   "execution_count": 2,
   "metadata": {},
   "outputs": [],
   "source": [
    "import networkx as nx\n",
    "import pandas as pd"
   ]
  },
  {
   "cell_type": "code",
   "execution_count": 26,
   "metadata": {},
   "outputs": [],
   "source": [
    "nx_graphs = []\n",
    "agg_graph = nx.MultiGraph()\n",
    "weighted_graph = nx.Graph()\n",
    "\n",
    "total_edges = 0\n",
    "for i in range(31):\n",
    "\t# with open(f'..\\ATX_Networks\\sim_day_{i+1}.gexf') as graph_file:\n",
    "\tdummy_multigraph = nx.MultiGraph()\n",
    "\toriginal_graph = nx.read_gexf(f'datasets\\ATX_Networks\\sim_day_{i+1}.gexf')\n",
    "\tdummy_multigraph.update(original_graph)\n",
    "\tagg_graph.update(dummy_multigraph)\n",
    "\tnx_graphs.append(original_graph)\n",
    "\n",
    "\ttotal_edges += nx.number_of_edges(dummy_multigraph)\n",
    "\t\n",
    "\tweighted_graph.update(original_graph)\n",
    "\n",
    "\t# print(f\"total edges: {total_edges}, agg edges: {nx.number_of_edges(agg_graph)}.\")"
   ]
  },
  {
   "cell_type": "code",
   "execution_count": 19,
   "metadata": {},
   "outputs": [
    {
     "name": "stdout",
     "output_type": "stream",
     "text": [
      "There are 230965 edges across 30 days.\n",
      "The aggregated graph has 230965 edges.\n"
     ]
    }
   ],
   "source": [
    "total_edges = 0\n",
    "for graph in nx_graphs:\n",
    "\ttotal_edges += nx.number_of_edges(graph)\n",
    "\n",
    "print(f\"There are {total_edges} edges across 30 days.\")\n",
    "print(f\"The aggregated graph has {nx.number_of_edges(agg_graph)} edges.\")"
   ]
  },
  {
   "cell_type": "code",
   "execution_count": 27,
   "metadata": {},
   "outputs": [
    {
     "name": "stdout",
     "output_type": "stream",
     "text": [
      "{}\n"
     ]
    }
   ],
   "source": [
    "collapsed_graph = agg_graph.to_undirected()\n",
    "print(nx.get_edge_attributes(collapsed_graph, \"weight\"))"
   ]
  },
  {
   "cell_type": "code",
   "execution_count": 28,
   "metadata": {},
   "outputs": [
    {
     "name": "stdout",
     "output_type": "stream",
     "text": [
      "Graph with 28570 nodes and 214731 edges\n"
     ]
    }
   ],
   "source": [
    "print(weighted_graph)"
   ]
  },
  {
   "cell_type": "code",
   "execution_count": null,
   "metadata": {},
   "outputs": [],
   "source": []
  }
 ],
 "metadata": {
  "interpreter": {
   "hash": "9be1eec2b1da80ac1fa49f4c701ef6438149f84fa437577912d3627bf1fcefe5"
  },
  "kernelspec": {
   "display_name": "Python 3.8.12 64-bit ('base': conda)",
   "language": "python",
   "name": "python3"
  },
  "language_info": {
   "codemirror_mode": {
    "name": "ipython",
    "version": 3
   },
   "file_extension": ".py",
   "mimetype": "text/x-python",
   "name": "python",
   "nbconvert_exporter": "python",
   "pygments_lexer": "ipython3",
   "version": "3.8.12"
  },
  "orig_nbformat": 4
 },
 "nbformat": 4,
 "nbformat_minor": 2
}
